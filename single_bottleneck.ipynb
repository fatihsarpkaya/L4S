{
 "cells": [
  {
   "cell_type": "markdown",
   "metadata": {},
   "source": [
    "### Configure environment"
   ],
   "id": "86e5f28c-5dc9-4a97-8121-d2efd933fcd3"
  },
  {
   "cell_type": "code",
   "execution_count": null,
   "metadata": {},
   "outputs": [],
   "source": [
    "from fabrictestbed_extensions.fablib.fablib import FablibManager as fablib_manager\n",
    "fablib = fablib_manager() \n",
    "conf = fablib.show_config()"
   ],
   "id": "1cb48b87-612a-44b3-8899-45f86ffbb39c"
  },
  {
   "cell_type": "markdown",
   "metadata": {},
   "source": [
    "### Define configuration for this experiment"
   ],
   "id": "82929c13-6f9d-489c-815a-ceffd9f624d1"
  },
  {
   "cell_type": "code",
   "execution_count": null,
   "metadata": {},
   "outputs": [],
   "source": [
    "slice_name=\"l4s-\" + fablib.get_bastion_username()\n",
    "\n",
    "node_conf = [\n",
    " {'name': \"tx0\",    'cores': 4, 'ram': 32, 'disk': 20, 'image': 'default_ubuntu_22', 'packages': ['iperf3', 'net-tools', 'moreutils']}, \n",
    " {'name': \"tx1\",    'cores': 4, 'ram': 32, 'disk': 20, 'image': 'default_ubuntu_22', 'packages': ['iperf3', 'net-tools', 'moreutils']}, \n",
    " {'name': \"router\", 'cores': 4, 'ram': 32, 'disk': 20, 'image': 'default_ubuntu_22', 'packages': ['iperf3', 'net-tools', 'moreutils']}, \n",
    " {'name': \"delay\", 'cores': 4, 'ram': 32, 'disk': 20, 'image': 'default_ubuntu_22', 'packages': ['iperf3', 'net-tools', 'moreutils']}, \n",
    " {'name': \"rx0\",    'cores': 4, 'ram': 32, 'disk': 20, 'image': 'default_ubuntu_22', 'packages': [''iperf3', 'net-tools', 'moreutils']}, \n",
    " {'name': \"rx1\",    'cores': 4, 'ram': 32, 'disk': 20, 'image': 'default_ubuntu_22', 'packages': ['iperf3', 'net-tools', 'moreutils']}\n",
    "]\n",
    "net_conf = [\n",
    " {\"name\": \"net-tx0\", \"subnet\": \"10.0.0.0/24\", \"nodes\": [{\"name\": \"tx0\",   \"addr\": \"10.0.0.100\"}, {\"name\": \"delay\", \"addr\": \"10.0.0.101\"}]},\n",
    " {\"name\": \"net-tx1\", \"subnet\": \"10.0.1.0/24\", \"nodes\": [{\"name\": \"tx1\", \"addr\": \"10.0.1.100\"}, {\"name\": \"delay\", \"addr\": \"10.0.1.101\"}]},\n",
    " {\"name\": \"net-delay-router\", \"subnet\": \"10.0.2.0/24\", \"nodes\": [{\"name\": \"delay\",   \"addr\": \"10.0.2.1\"}, {\"name\": \"router\", \"addr\": \"10.0.2.2\"}]},\n",
    " {\"name\": \"net-rx0\", \"subnet\": \"10.0.3.0/24\", \"nodes\": [{\"name\": \"rx0\",   \"addr\": \"10.0.3.100\"}, {\"name\": \"router\", \"addr\": \"10.0.3.101\"}]}\n",
    " {\"name\": \"net-rx1\", \"subnet\": \"10.0.4.0/24\", \"nodes\": [{\"name\": \"rx1\", \"addr\": \"10.0.4.100\"}, {\"name\": \"router\", \"addr\": \"10.0.4.101\"}]}\n",
    "\n",
    "]\n",
    "route_conf = [\n",
    " {\"addr\": \"10.0.3.0/24\", \"gw\": \"10.0.0.101\", \"nodes\": [\"tx0]}, \n",
    " {\"addr\": \"10.0.4.0/24\", \"gw\": \"10.0.1.101\", \"nodes\": [\"tx1]}, \n",
    " {\"addr\": \"10.0.3.0/24\", \"gw\": \"10.0.2.2\", \"nodes\": [\"delay\"]},\n",
    " {\"addr\": \"10.0.4.0/24\", \"gw\": \"10.0.2.2\", \"nodes\": [\"delay\"]},\n",
    " {\"addr\": \"10.0.0.0/24\", \"gw\": \"10.0.3.101\", \"nodes\": [\"rx0\"]},\n",
    " {\"addr\": \"10.0.1.0/24\", \"gw\": \"10.0.4.101\", \"nodes\": [\"rx1\"]},\n",
    " {\"addr\": \"10.0.0.0/24\", \"gw\": \"10.0.2.1\", \"nodes\": [\"router\"]},\n",
    " {\"addr\": \"10.0.1.0/24\", \"gw\": \"10.0.2.1\", \"nodes\": [\"router\"]},\n",
    "\n",
    "]\n",
    "exp_conf = {'cores': sum([ n['cores'] for n in node_conf]), 'nic': sum([len(n['nodes']) for n in net_conf]) }"
   ],
   "id": "64c40aaf-5950-4fc7-85b4-b859e1482113"
  },
  {
   "cell_type": "markdown",
   "metadata": {},
   "source": [
    "### Reserve resources\n",
    "\n",
    "Now, we are ready to reserve resources!"
   ],
   "id": "36915401-7084-4868-b347-37bddec2d7b7"
  },
  {
   "cell_type": "markdown",
   "metadata": {},
   "source": [
    "First, make sure you don’t already have a slice with this name:"
   ],
   "id": "cb4f28d2-a66c-40e1-912e-d926713b3913"
  },
  {
   "cell_type": "code",
   "execution_count": null,
   "metadata": {},
   "outputs": [],
   "source": [
    "try:\n",
    "    slice = fablib.get_slice(slice_name)\n",
    "    print(\"You already have a slice by this name!\")\n",
    "    print(\"If you previously reserved resources, skip to the 'log in to resources' section.\")\n",
    "except:\n",
    "    print(\"You don't have a slice named %s yet.\" % slice_name)\n",
    "    print(\"Continue to the next step to make one.\")\n",
    "    slice = fablib.new_slice(name=slice_name)"
   ],
   "id": "15a779cc-fca7-498a-a2a3-b95560bce275"
  },
  {
   "cell_type": "markdown",
   "metadata": {},
   "source": [
    "We will select a random site that has sufficient resources for our experiment:"
   ],
   "id": "4b5d177d-8b81-4491-ba2c-d7b234ac672c"
  },
  {
   "cell_type": "code",
   "execution_count": null,
   "metadata": {},
   "outputs": [],
   "source": [
    "while True:\n",
    "    site_name = fablib.get_random_site()\n",
    "    if ( (fablib.resources.get_core_available(site_name) > 1.2*exp_conf['cores']) and\n",
    "        (fablib.resources.get_component_available(site_name, 'SharedNIC-ConnectX-6') > 1.2**exp_conf['nic']) ):\n",
    "        break\n",
    "\n",
    "fablib.show_site(site_name)"
   ],
   "id": "29d715a2-7dd4-41a5-8507-4262ff3b0581"
  },
  {
   "cell_type": "markdown",
   "metadata": {},
   "source": [
    "Then we will add hosts and network segments:"
   ],
   "id": "8baa4982-d5a4-4ac9-b37f-d79ad560da30"
  },
  {
   "cell_type": "code",
   "execution_count": null,
   "metadata": {},
   "outputs": [],
   "source": [
    "# this cell sets up the nodes\n",
    "for n in node_conf:\n",
    "    slice.add_node(name=n['name'], site=site_name, \n",
    "                   cores=n['cores'], \n",
    "                   ram=n['ram'], \n",
    "                   disk=n['disk'], \n",
    "                   image=n['image'])"
   ],
   "id": "c1c7080b-08eb-4677-9426-f0a75188e8ec"
  },
  {
   "cell_type": "code",
   "execution_count": null,
   "metadata": {},
   "outputs": [],
   "source": [
    "# this cell sets up the network segments\n",
    "for n in net_conf:\n",
    "    ifaces = [slice.get_node(node[\"name\"]).add_component(model=\"NIC_Basic\", \n",
    "                                                 name=n[\"name\"]).get_interfaces()[0] for node in n['nodes'] ]\n",
    "    slice.add_l2network(name=n[\"name\"], type='L2Bridge', interfaces=ifaces)"
   ],
   "id": "d32a3cb1-617b-4baf-bf57-38e9ab220181"
  },
  {
   "cell_type": "markdown",
   "metadata": {},
   "source": [
    "The following cell submits our request to the FABRIC site. The output of this cell will update automatically as the status of our request changes.\n",
    "\n",
    "-   While it is being prepared, the “State” of the slice will appear as “Configuring”.\n",
    "-   When it is ready, the “State” of the slice will change to “StableOK”.\n",
    "\n",
    "You may prefer to walk away and come back in a few minutes (for simple slices) or a few tens of minutes (for more complicated slices with many resources)."
   ],
   "id": "db0254bc-4e97-4555-a4d7-40ca37e4c0eb"
  },
  {
   "cell_type": "code",
   "execution_count": null,
   "metadata": {},
   "outputs": [],
   "source": [
    "slice.submit()"
   ],
   "id": "1539e263-4bce-4d76-ad31-1f8aa24adedf"
  },
  {
   "cell_type": "code",
   "execution_count": null,
   "metadata": {},
   "outputs": [],
   "source": [
    "slice.get_state()\n",
    "slice.wait_ssh(progress=True)"
   ],
   "id": "529769ab-15d7-4887-87b0-c2e3a581833c"
  },
  {
   "cell_type": "markdown",
   "metadata": {},
   "source": [
    "### Extend your slice\n",
    "\n",
    "If you don’t plan to finish an experiment in one day, you can extend your slice. The following cell extends your reservation for 7 days."
   ],
   "id": "e8eab46a-749d-4039-91c0-6ea445e04b42"
  },
  {
   "cell_type": "code",
   "execution_count": null,
   "metadata": {},
   "outputs": [],
   "source": [
    "from datetime import datetime\n",
    "from datetime import timezone\n",
    "from datetime import timedelta\n",
    "\n",
    "# Set end date to 7 days from now\n",
    "end_date = (datetime.now(timezone.utc) + timedelta(days=7)).strftime(\"%Y-%m-%d %H:%M:%S %z\")\n",
    "slice.renew(end_date)"
   ],
   "id": "8601e341-f87e-4852-829d-959ba5806d54"
  },
  {
   "cell_type": "markdown",
   "metadata": {},
   "source": [
    "### Configure resources\n",
    "\n",
    "Next, we will configure the resources so they are ready to use."
   ],
   "id": "91706ffb-a4c5-4bca-bfd2-e64e58315440"
  },
  {
   "cell_type": "code",
   "execution_count": null,
   "metadata": {},
   "outputs": [],
   "source": [
    "slice = fablib.get_slice(name=slice_name)"
   ],
   "id": "dfc3e61e-b3de-4b39-8717-ce24113ff2e8"
  },
  {
   "cell_type": "code",
   "execution_count": null,
   "metadata": {},
   "outputs": [],
   "source": [
    "# install packages\n",
    "# this will take a while and will run in background while you do other steps\n",
    "for n in node_conf:\n",
    "    if len(n['packages']):\n",
    "        node = slice.get_node(n['name'])\n",
    "        pkg = \" \".join(n['packages'])\n",
    "        node.execute_thread(\"sudo apt update; sudo apt -y install %s\" % pkg)"
   ],
   "id": "2a1c4c1c-c8dc-4b3e-9bd3-ad8240fc61b0"
  },
  {
   "cell_type": "code",
   "execution_count": null,
   "metadata": {},
   "outputs": [],
   "source": [
    "# bring interfaces up and either assign an address (if there is one) or flush address\n",
    "from ipaddress import ip_address, IPv4Address, IPv4Network\n",
    "\n",
    "for net in net_conf:\n",
    "    for n in net['nodes']:\n",
    "        if_name = n['name'] + '-' + net['name'] + '-p1'\n",
    "        iface = slice.get_interface(if_name)\n",
    "        iface.ip_link_up()\n",
    "        if n['addr']:\n",
    "            iface.ip_addr_add(addr=n['addr'], subnet=IPv4Network(net['subnet']))\n",
    "        else:\n",
    "            iface.get_node().execute(\"sudo ip addr flush dev %s\"  % iface.get_device_name())"
   ],
   "id": "f0274fee-13a2-4d11-8c2c-5e2698de2ca0"
  },
  {
   "cell_type": "code",
   "execution_count": null,
   "metadata": {},
   "outputs": [],
   "source": [
    "# prepare a \"hosts\" file that has names and addresses of every node\n",
    "hosts_txt = [ \"%s\\t%s\" % ( n['addr'], n['name'] ) for net in net_conf  for n in net['nodes'] if type(n) is dict and n['addr']]\n",
    "for n in slice.get_nodes():\n",
    "    for h in hosts_txt:\n",
    "        n.execute(\"echo %s | sudo tee -a /etc/hosts\" % h)"
   ],
   "id": "a7b1fd37-41e0-43b6-92f4-d9d5038be123"
  },
  {
   "cell_type": "code",
   "execution_count": null,
   "metadata": {},
   "outputs": [],
   "source": [
    "# enable IPv4 forwarding on all nodes\n",
    "for n in slice.get_nodes():\n",
    "    n.execute(\"sudo sysctl -w net.ipv4.ip_forward=1\")"
   ],
   "id": "d7894435-6cf3-4952-808b-85ff1eeda209"
  },
  {
   "cell_type": "code",
   "execution_count": null,
   "metadata": {},
   "outputs": [],
   "source": [
    "# set up static routes\n",
    "for rt in route_conf:\n",
    "    for n in rt['nodes']:\n",
    "        slice.get_node(name=n).ip_route_add(subnet=IPv4Network(rt['addr']), gateway=rt['gw'])"
   ],
   "id": "e5dfd6c9-3309-4ee2-90dd-18f8514dd4dc"
  },
  {
   "cell_type": "code",
   "execution_count": null,
   "metadata": {},
   "outputs": [],
   "source": [
    "# turn off segmentation offload on interfaces\n",
    "for iface in slice.get_interfaces():\n",
    "    iface_name = iface.get_device_name()\n",
    "    n = iface.get_node()\n",
    "    offloads = [\"gro\", \"lro\", \"gso\", \"tso\"]\n",
    "    for offload in offloads:\n",
    "        n.execute(\"sudo ethtool -K %s %s off\" % (iface_name, offload))"
   ],
   "id": "7c5b0ab1-78f1-465c-85b2-544cc22c8fa6"
  },
  {
   "cell_type": "markdown",
   "metadata": {},
   "source": [
    "::: {.cell .markdown}### Configure Experiment:::::: {.cell .code}`python# installing the kernelpkg_list = ['iproute2_5.10.0-1_amd64.deb',            'iproute2-doc_5.10.0-1_all.deb',            'linux-headers-5.15.72-43822a283-prague-43_1_amd64.deb',            'linux-image-5.15.72-43822a283-prague-43_1_amd64.deb',            'linux-libc-dev_1_amd64.deb']for node in slice.get_nodes():    for pkg in pkg_list:        node.upload_file(\"/home/fabric/work/setup/\" + pkg, \"/home/ubuntu/\" + pkg)   node.execute(\"sudo dpkg -i \" + \" \".join(pkg_list) + \"; sudo reboot\")# wait for all nodes to come back upslice.wait_ssh(progress=True)for node in slice.get_nodes(): # check kernel version  node.execute(\"hostname; uname -a\")  #inital configuration for the sendersslice.get_node(name=\"tx0\").execute(\"sudo modprobe tcp_prague\")slice.get_node(name=\"tx0).execute(\"sudo sysctl -w net.ipv4.tcp_congestion_control=prague\")slice.get_node(name=\"tx0\").execute(\"sudo sysctl -w net.ipv4.tcp_ecn=3\")slice.get_node(name=\"tx1).execute(\"sudo sysctl -w net.ipv4.tcp_congestion_control=cubic\")slice.get_node(name=\"tx1\").execute(\"sudo sysctl -w net.ipv4.tcp_ecn=1\")`:::"
   ],
   "id": "8db0c8f1-552f-4a85-8ff2-441a20f4a655"
  },
  {
   "cell_type": "markdown",
   "metadata": {},
   "source": [
    "### Draw the network topology"
   ],
   "id": "d5fa5561-b260-48ec-aeb7-aa1264aa638b"
  },
  {
   "cell_type": "markdown",
   "metadata": {},
   "source": [
    "The following cell will draw the network topology, for your reference. The interface name and addresses of each experiment interface will be shown on the drawing."
   ],
   "id": "1755c899-b1e5-4a17-a76f-06bc2a8ae10d"
  },
  {
   "cell_type": "code",
   "execution_count": null,
   "metadata": {},
   "outputs": [],
   "source": [
    "l2_nets = [(n.get_name(), {'color': 'lavender'}) for n in slice.get_l2networks() ]\n",
    "l3_nets = [(n.get_name(), {'color': 'pink'}) for n in slice.get_l3networks() ]\n",
    "hosts   =   [(n.get_name(), {'color': 'lightblue'}) for n in slice.get_nodes()]\n",
    "nodes = l2_nets + l3_nets + hosts\n",
    "ifaces = [iface.toDict() for iface in slice.get_interfaces()]\n",
    "edges = [(iface['network'], iface['node'], \n",
    "          {'label': iface['physical_dev'] + '\\n' + iface['ip_addr'] + '\\n' + iface['mac']}) for iface in ifaces]"
   ],
   "id": "469b9010-3d6d-474f-9e14-809c5ea98cf4"
  },
  {
   "cell_type": "code",
   "execution_count": null,
   "metadata": {},
   "outputs": [],
   "source": [
    "import networkx as nx\n",
    "import matplotlib.pyplot as plt\n",
    "plt.figure(figsize=(len(nodes),len(nodes)))\n",
    "G = nx.Graph()\n",
    "G.add_nodes_from(nodes)\n",
    "G.add_edges_from(edges)\n",
    "pos = nx.spring_layout(G)\n",
    "nx.draw(G, pos, node_shape='s',  \n",
    "        node_color=[n[1]['color'] for n in nodes], \n",
    "        node_size=[len(n[0])*400 for n in nodes],  \n",
    "        with_labels=True);\n",
    "nx.draw_networkx_edge_labels(G,pos,\n",
    "                             edge_labels=nx.get_edge_attributes(G,'label'),\n",
    "                             font_color='gray',  font_size=8, rotate=False);"
   ],
   "id": "19f0320d-2f0d-474a-b0f2-10fb29f9525d"
  },
  {
   "cell_type": "markdown",
   "metadata": {},
   "source": [
    "### Log into resources"
   ],
   "id": "a7d273d3-b30f-4450-86f3-f757ed647387"
  },
  {
   "cell_type": "markdown",
   "metadata": {},
   "source": [
    "Now, we are finally ready to log in to our resources over SSH! Run the following cells, and observe the table output - you will see an SSH command for each of the resources in your topology."
   ],
   "id": "33f3a2c2-47ab-4f68-b9fe-866c7ebf4825"
  },
  {
   "cell_type": "code",
   "execution_count": null,
   "metadata": {},
   "outputs": [],
   "source": [
    "import pandas as pd\n",
    "pd.set_option('display.max_colwidth', None)\n",
    "slice_info = [{'Name': n.get_name(), 'SSH command': n.get_ssh_command()} for n in slice.get_nodes()]\n",
    "pd.DataFrame(slice_info).set_index('Name')"
   ],
   "id": "1bc359ed-47d5-4c3e-9722-684d6d1547ce"
  },
  {
   "cell_type": "markdown",
   "metadata": {},
   "source": [
    "Now, you can open an SSH session on any of the resources as follows:\n",
    "\n",
    "-   in Jupyter, from the menu bar, use File \\> New \\> Terminal to open a new terminal.\n",
    "-   copy an SSH command from the table, and paste it into the terminal. (Note that each SSH command is a single line, even if the display wraps the text to a second line! When you copy and paste it, paste it all together.)\n",
    "\n",
    "You can repeat this process (open several terminals) to start a session on each resource. Each terminal session will have a tab in the Jupyter environment, so that you can easily switch between them."
   ],
   "id": "c9419516-7eb9-4648-b608-9fc615ddf570"
  },
  {
   "cell_type": "markdown",
   "metadata": {},
   "source": [
    "::: {.cell .markdown}### Execute Experiment:::::: {.cell .code}`python# nodes and instancestx0_node = slice.get_node(name=\"tx0\")tx1_node = slice.get_node(name=\"tx1\")rx0_node = slice.get_node(name=\"rx0\")rx1_node = slice.get_node(name=\"rx1\")delay_node = slice.get_node(name=\"delay\")router_node = slice.get_node(name=\"router\")# interfacestx0_egress_iface  = tx0_node.get_interface(network_name = \"net-tx0\")tx1_egress_iface  = tx1_node.get_interface(network_name = \"net-tx1\")delay_ingress_tx0_iface  = delay_node.get_interface(network_name = \"net-tx0\")delay_ingress_tx1_iface  = delay_node.get_interface(network_name = \"net-tx1\")delay_egress_iface  = delay_node.get_interface(network_name = \"net-delay-router\")delay_ingress_tx0_name = delay_ingress_tx0_iface.get_device_name()delay_ingress_tx1_name = delay_ingress_tx1_iface.get_device_name()delay_egress_name = delay_egress_iface.get_device_name()router_ingress_iface  = router_node.get_interface(network_name = \"net-delay-router\")router_egress_rx0_iface  = router_node.get_interface(network_name = \"net-rx0\")router_egress_rx1_iface  = router_node.get_interface(network_name = \"net-rx1\")router_egress_rx0_name  = router_egress_rx0_iface.get_device_name()router_egress_rx1_name  = router_egress_rx1_iface.get_device_name()rx0_ingress_iface  = rx0_node.get_interface(network_name = \"net-rx0\")rx1_ingress_iface  = rx1_node.get_interface(network_name = \"net-rx1\")# generate full factorial experimentimport itertoolsexp_factors = {     'n_bdp': [0.5, 2, 5, 10], # n x bandwidth delay product    'btl_capacity': [100, 1000],    'base_rtt': [10, 50, 100],    'aqm': ['FIFO', 'single queue FQ', 'Codel', 'FQ', 'FQ_Codel', 'DualPI2'],    'ecn_threshold': [5, 20],    'ecn_fallback': [0, 1], # 0: OFF, 1: ON    'rx0_ecn': [0, 1, 2] #0: noecn, 1:ecn, 2:accecn    'rx1_ecn': [0, 1, 2]  #0: noecn, 1:ecn, 2:accecn}factor_names = [k for k in exp_factors]factor_lists = list(itertools.product(*exp_factors.values()))exp_lists = []for factor_l in factor_lists:    temp_dict = dict(zip(factor_names, factor_l))    if temp_dict['aqm'] == 'FIFO':        del temp_dict['ecn_threshold']    exp_lists.append(temp_dict)data_dir = slice_name + 'singlebottleneck'# run experimentsd = 120 #durationem = ['delay_ingress_tx0_name', 'delay_ingress_tx1_name', 'delay_egress_name']commands_noecn='''sudo sysctl -w net.ipv4.tcp_congestion_control=cubic  sudo sysctl -w net.ipv4.tcp_ecn=0''' #tcp_prague, no ECNcommands_ecn='''sudo sysctl -w net.ipv4.tcp_congestion_control=cubic  sudo sysctl -w net.ipv4.tcp_ecn=1''' #tcp_prague, ECNcommands_accecn='''sudo sysctl -w net.ipv4.tcp_congestion_control=prague  sudo sysctl -w net.ipv4.tcp_ecn=3''' #tcp_prague, AccECNserver_ecn_list=[commands_noecn, commands_ecn, commands_accecn]for exp in exp_lists:    # check if we already ran this experiment    # (allow stop/resume)    name_prague=\"/%s_%0.1f_%d_%d_%s_%s_%d_%d_%d.txt\" % (\"prague\",exp['n_bdp'], exp['btl_capacity'], exp['base_rtt'], exp['aqm'], str(exp.get('ecn_threshold', 'none')), exp['ecn_fallback'], exp['rx0_ecn'], exp['rx1_ecn'])    name_cubic=\"/%s_%0.1f_%d_%d_%s_%s_%d_%d_%d.txt\" % (\"cubic\",exp['n_bdp'], exp['btl_capacity'], exp['base_rtt'], exp['aqm'], str(exp.get('ecn_threshold', 'none')), exp['ecn_fallback'], exp['rx0_ecn'], exp['rx1_ecn'])        file_out = data_dir + name_prague    stdout, stderr = tx0_node.execute(\"ls \" + file_out, quiet=True) # run this on the node that saves the output file    if len(stdout):        print(\"Already have \" + file_out + \", skipping\")    elif len(stderr):        print(\"Running experiment to generate \" + file_out)                 # delay at emulator        for e in em:            cmds = \"sudo tc qdisc replace dev {iface} root netem delay {owd}ms limit 60000\".format(iface=e, owd=exp['base_rtt']/2)            delay_node.execute(cmds)                # fixed values        btl_limit    = int(1000*exp['n_bdp']*exp['btl_capacity']*2*exp['base_rtt']/8) # limit of the bottleneck, n_bdp x BDP in bytes         packet_number=int(btl_limit/1500)+1                        #ecn-fallback configuration                       commands = \"cd /sys/module/tcp_prague/parameters && echo {value} | sudo tee prague_ecn_fallback\".format(value=str(exp['ecn_fallback']))        tx0_node.execute(commands)                #receiver ecn configuration        rx0_node.execute(server_ecn_list[exp['rx0_ecn']])        rx1_node.execute(server_ecn_list[exp['rx1_ecn']])                #aqm type selection        if exp['aqm']=='FIFO'            cmds = '''            sudo tc qdisc del dev {iface} root            sudo tc qdisc replace dev {iface} root handle 1: htb default 3             sudo tc class add dev {iface} parent 1: classid 1:3 htb rate {capacity}mbit             sudo tc qdisc add dev {iface} parent 1:3 handle 3: bfifo limit {buffer}             '''.format(iface=router_egress_name, capacity=exp['btl_capacity'], buffer=btl_limit)            router_node.execute(cmds)                elif exp['aqm']=='single queue FQ'            cmds = '''            sudo tc qdisc del dev {iface} root            sudo tc qdisc replace dev {iface} root handle 1: htb default 3            sudo tc class add dev {iface} parent 1: classid 1:3 htb rate {capacity}mbit            sudo tc qdisc replace dev {iface} parent 1:3 handle 3: fq limit {packet_limit} flow_limit {packet_limit} orphan_mask 0 ce_threshold {threshold}ms            '''.format(iface=router_egress_name, capacity=exp['btl_capacity'], packet_limit=packet_number, threshold=exp['ecn_threshold'])            router_node.execute(cmds)                                elif exp['aqm']=='Codel'            cmds = '''            sudo tc qdisc del dev {iface} root            sudo tc qdisc replace dev {iface} root handle 1: htb default 3            sudo tc class add dev {iface} parent 1: classid 1:3 htb rate {capacity}mbit            sudo tc qdisc replace dev {iface} parent 1:3 handle 3: codel limit {packet_limit} target {target}ms interval 100ms ecn ce_threshold {threshold}ms            '''.format(iface=router_egress_name, capacity=exp['btl_capacity'], packet_limit=packet_number, target=exp['base_rtt']*exp['n_bdp'], threshold=exp['ecn_threshold'])            router_node.execute(cmds)                                elif exp['aqm']=='FQ'            cmds = '''            sudo tc qdisc del dev {iface} root            sudo tc qdisc replace dev {iface} root handle 1: htb default 3            sudo tc class add dev {iface} parent 1: classid 1:3 htb rate {capacity}mbit            sudo tc qdisc replace dev {iface} parent 1:3 handle 3: fq limit {packet_limit} flow_limit {packet_limit} ce_threshold {threshold}ms            '''.format(iface=router_egress_name, capacity=exp['btl_capacity'], packet_limit=packet_number, threshold=exp['ecn_threshold'])            router_node.execute(cmds)                                elif exp['aqm']=='FQ_Codel'            cmds = '''            sudo tc qdisc del dev {iface} root            sudo tc qdisc replace dev {iface} root handle 1: htb default 3            sudo tc class add dev {iface} parent 1: classid 1:3 htb rate {capacity}mbit            sudo tc qdisc replace dev {iface} parent 1:3 handle 3: fq_codel limit {packet_limit} target {target}ms interval 100ms ecn ce_threshold {threshold}ms            '''.format(iface=router_egress_name, capacity=exp['btl_capacity'], packet_limit=packet_number, target=exp['base_rtt']*exp['n_bdp'], threshold=exp['ecn_threshold'])            router_node.execute(cmds)                elif exp['aqm']=='DualPI2'            cmds = '''            sudo tc qdisc del dev {iface} root            sudo tc qdisc replace dev {iface} root handle 1: htb default 3            sudo tc class add dev {iface} parent 1: classid 1:3 htb rate {capacity}mbit            sudo tc qdisc add dev {iface} parent 1:3 handle 3: dualpi2 target {threshold}ms            '''.format(iface=router_egress_name, capacity=exp['btl_capacity'], threshold=exp['ecn_threshold'])            router_node.execute(cmds)                        #starting experiment        #name_prague=\"/%s_%0.1f_%d_%d_%s_%s_%s_%s_%s.txt\" % (\"prague\",exp['n_bdp'], exp['btl_capacity'], exp['base_rtt'], exp['aqm'], str(exp.get('ecn_threshold', 'none')), exp['ecn_fallback'], exp['rx0_ecn'], exp['rx1_ecn'])        #name_cubic=\"/%s_%0.1f_%d_%d_%s_%s_%s_%s_%s.txt\" % (\"cubic\",exp['n_bdp'], exp['btl_capacity'], exp['base_rtt'], exp['aqm'], str(exp.get('ecn_threshold', 'none')), exp['ecn_fallback'], exp['rx0_ecn'], exp['rx1_ecn'])        rx0_node.execute(\"killall iperf3\")        rx1_node.execute(\"killall iperf3\")                ss_tx0_script=\"rm -f {flow}-ss.txt; start_time=$(date +%s); while true; do ss --no-header -eipn dst 10.0.3.100 | ts '%.s' | tee -a {flow}-ss.txt; current_time=$(date +%s); elapsed_time=$((current_time - start_time));  if [ $elapsed_time -ge {duration} ]; then break; fi; sleep 0.1; done;\"        ss_tx1_script=\"rm -f {flow}-ss.txt; start_time=$(date +%s); while true; do ss --no-header -eipn dst 10.0.4.100 | ts '%.s' | tee -a {flow}-ss.txt; current_time=$(date +%s); elapsed_time=$((current_time - start_time));  if [ $elapsed_time -ge {duration} ]; then break; fi; sleep 0.1; done;\"        #print(\"Starting experiment with {1} bdp {2} capacity {3} rtt {4} {5} thrshold {6} ecn_fallback {7} rx0 {8} rx1 for {duration} seconds\".format(duration=d, 1=exp['n_bdp'], 2=exp['btl_capacity'], 3=exp['base_rtt'], 4=exp['aqm'], 5=exp['ecn_threshold'], 6= exp['ecn_fallback'], 7=exp['rx0_ecn'], 8=exp['rx1_ecn']))                rx0_node.execute(\"iperf3 -s -1 -p 4000 -D\")        rx1_node.execute(\"iperf3 -s -1 -p 5000 -D\")                tx0_node.execute_thread(ss_tx0_script.format(flow=name_prague, duration=d))        tx1_node.execute_thread(ss_tx1_script.format(flow=name_cubic, duration=d))                tx0_node.execute_thread(\"sleep 1; iperf3 -c 10.0.3.100 -t {duration} -P {flows} -C prague -p 4000 -J > {flow}-result.json\".format(flow =name_prague, duration=d, flows=1))        tx1_node.execute(\"sleep 1; iperf3 -c 10.0.4.100 -t {duration} -P {flows} -C cubic -p 5000 -J > {flow}-result.json\".format(flow =name_cubic, duration=d, flows=1))        time.sleep(3)                                                        tx0_node.execute('tar -czf ' + data_dir + '.tgz ' + data_dir)tx0_node.download_file(data_dir + '.tgz', '/home/ubuntu/' + data_dir + '.tgz')        tx1_node.execute('tar -czf ' + data_dir + '.tgz ' + data_dir)tx1_node.download_file(data_dir + '.tgz', '/home/ubuntu/' + data_dir + '.tgz')`:::"
   ],
   "id": "ab62e108-48c2-4329-a094-cff4e367574e"
  }
 ],
 "nbformat": 4,
 "nbformat_minor": 5,
 "metadata": {}
}
