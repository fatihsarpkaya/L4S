{
 "cells": [
  {
   "cell_type": "markdown",
   "metadata": {},
   "source": [
    "### Configure environment"
   ],
   "id": "97e93ba2-8046-4bef-9188-952657098e6a"
  },
  {
   "cell_type": "code",
   "execution_count": null,
   "metadata": {},
   "outputs": [],
   "source": [
    "from fabrictestbed_extensions.fablib.fablib import FablibManager as fablib_manager\n",
    "fablib = fablib_manager() \n",
    "conf = fablib.show_config()"
   ],
   "id": "cc0abc6f-5378-4358-b4da-896d1326f17a"
  },
  {
   "cell_type": "markdown",
   "metadata": {},
   "source": [
    "### Define configuration for this experiment"
   ],
   "id": "e314a590-b6d0-4769-ae17-8d78bb2efb7d"
  },
  {
   "cell_type": "code",
   "execution_count": null,
   "metadata": {},
   "outputs": [],
   "source": [
    "slice_name=\"l4s-\" + fablib.get_bastion_username()\n",
    "\n",
    "node_conf = [\n",
    " {'name': \"tx0\",    'cores': 4, 'ram': 32, 'disk': 20, 'image': 'default_ubuntu_22', 'packages': ['iperf3', 'net-tools', 'moreutils']}, \n",
    " {'name': \"tx1\",    'cores': 4, 'ram': 32, 'disk': 20, 'image': 'default_ubuntu_22', 'packages': ['iperf3', 'net-tools', 'moreutils']}, \n",
    " {'name': \"router\", 'cores': 4, 'ram': 32, 'disk': 20, 'image': 'default_ubuntu_22', 'packages': ['iperf3', 'net-tools', 'moreutils']}, \n",
    " {'name': \"delay\", 'cores': 4, 'ram': 32, 'disk': 20, 'image': 'default_ubuntu_22', 'packages': ['iperf3', 'net-tools', 'moreutils']}, \n",
    " {'name': \"switch\", 'cores': 4, 'ram': 32, 'disk': 20, 'image': 'default_ubuntu_22', 'packages': ['iperf3', 'net-tools', 'moreutils']}, \n",
    " {'name': \"rx0\",    'cores': 4, 'ram': 32, 'disk': 20, 'image': 'default_ubuntu_22', 'packages': ['iperf3', 'net-tools', 'moreutils']}, \n",
    " {'name': \"rx1\",    'cores': 4, 'ram': 32, 'disk': 20, 'image': 'default_ubuntu_22', 'packages': ['iperf3', 'net-tools', 'moreutils']}\n",
    "]\n",
    "net_conf = [\n",
    " {\"name\": \"net-tx0\", \"subnet\": \"10.0.0.0/24\", \"nodes\": [{\"name\": \"tx0\",   \"addr\": \"10.0.0.100\"}, {\"name\": \"delay\", \"addr\": \"10.0.0.101\"}]},\n",
    " {\"name\": \"net-tx1\", \"subnet\": \"10.0.1.0/24\", \"nodes\": [{\"name\": \"tx1\", \"addr\": \"10.0.1.100\"}, {\"name\": \"delay\", \"addr\": \"10.0.1.101\"}]},\n",
    " {\"name\": \"net-delay-router\", \"subnet\": \"10.0.2.0/24\", \"nodes\": [{\"name\": \"delay\",   \"addr\": \"10.0.2.1\"}, {\"name\": \"router\", \"addr\": \"10.0.2.2\"}]},\n",
    " {\"name\": \"net-router-switch\", \"subnet\": \"10.0.5.0/24\", \"nodes\": [{\"name\": \"router\",   \"addr\": \"10.0.5.1\"}, {\"name\": \"switch\", \"addr\": \"10.0.5.2\"}]},\n",
    " {\"name\": \"net-rx0\", \"subnet\": \"10.0.3.0/24\", \"nodes\": [{\"name\": \"rx0\",   \"addr\": \"10.0.3.100\"}, {\"name\": \"switch\", \"addr\": \"10.0.3.101\"}]},\n",
    " {\"name\": \"net-rx1\", \"subnet\": \"10.0.4.0/24\", \"nodes\": [{\"name\": \"rx1\", \"addr\": \"10.0.4.100\"}, {\"name\": \"switch\", \"addr\": \"10.0.4.101\"}]}\n",
    "\n",
    "]\n",
    "route_conf = [\n",
    " {\"addr\": \"10.0.3.0/24\", \"gw\": \"10.0.0.101\", \"nodes\": [\"tx0\"]}, \n",
    " {\"addr\": \"10.0.4.0/24\", \"gw\": \"10.0.1.101\", \"nodes\": [\"tx1\"]}, \n",
    " {\"addr\": \"10.0.3.0/24\", \"gw\": \"10.0.2.2\", \"nodes\": [\"delay\"]},\n",
    " {\"addr\": \"10.0.4.0/24\", \"gw\": \"10.0.2.2\", \"nodes\": [\"delay\"]},\n",
    " {\"addr\": \"10.0.3.0/24\", \"gw\": \"10.0.5.2\", \"nodes\": [\"router\"]},\n",
    " {\"addr\": \"10.0.4.0/24\", \"gw\": \"10.0.5.2\", \"nodes\": [\"router\"]},\n",
    "\n",
    " {\"addr\": \"10.0.0.0/24\", \"gw\": \"10.0.3.101\", \"nodes\": [\"rx0\"]},\n",
    " {\"addr\": \"10.0.1.0/24\", \"gw\": \"10.0.4.101\", \"nodes\": [\"rx1\"]},\n",
    " {\"addr\": \"10.0.0.0/24\", \"gw\": \"10.0.5.1\", \"nodes\": [\"switch\"]},\n",
    " {\"addr\": \"10.0.1.0/24\", \"gw\": \"10.0.5.1\", \"nodes\": [\"switch\"]},\n",
    " {\"addr\": \"10.0.0.0/24\", \"gw\": \"10.0.2.1\", \"nodes\": [\"router\"]},\n",
    " {\"addr\": \"10.0.1.0/24\", \"gw\": \"10.0.2.1\", \"nodes\": [\"router\"]},\n",
    "\n",
    "]\n",
    "exp_conf = {'cores': sum([ n['cores'] for n in node_conf]), 'nic': sum([len(n['nodes']) for n in net_conf]) }"
   ],
   "id": "22f14452-e562-4da7-9ed3-3e65dcd431b9"
  },
  {
   "cell_type": "markdown",
   "metadata": {},
   "source": [
    "### Reserve resources\n",
    "\n",
    "Now, we are ready to reserve resources!"
   ],
   "id": "6aeaf4a1-a487-411d-ac55-982eb611c146"
  },
  {
   "cell_type": "markdown",
   "metadata": {},
   "source": [
    "First, make sure you don’t already have a slice with this name:"
   ],
   "id": "df00d0b3-c310-4847-9737-bec1542abce3"
  },
  {
   "cell_type": "code",
   "execution_count": null,
   "metadata": {},
   "outputs": [],
   "source": [
    "try:\n",
    "    slice = fablib.get_slice(slice_name)\n",
    "    print(\"You already have a slice by this name!\")\n",
    "    print(\"If you previously reserved resources, skip to the 'log in to resources' section.\")\n",
    "except:\n",
    "    print(\"You don't have a slice named %s yet.\" % slice_name)\n",
    "    print(\"Continue to the next step to make one.\")\n",
    "    slice = fablib.new_slice(name=slice_name)"
   ],
   "id": "16351ae9-915d-41cc-b2eb-fd77290333d4"
  },
  {
   "cell_type": "markdown",
   "metadata": {},
   "source": [
    "We will select a random site that has sufficient resources for our experiment:"
   ],
   "id": "6aa83d7b-3f59-41e8-bb0c-153383e23aad"
  },
  {
   "cell_type": "code",
   "execution_count": null,
   "metadata": {},
   "outputs": [],
   "source": [
    "while True:\n",
    "    site_name = fablib.get_random_site()\n",
    "    if ( (fablib.resources.get_core_available(site_name) > 1.2*exp_conf['cores']) and\n",
    "        (fablib.resources.get_component_available(site_name, 'SharedNIC-ConnectX-6') > 1.2**exp_conf['nic']) ):\n",
    "        break\n",
    "\n",
    "fablib.show_site(site_name)"
   ],
   "id": "b2e88c7b-8465-4a70-a09e-4b6b6e43b7e4"
  },
  {
   "cell_type": "markdown",
   "metadata": {},
   "source": [
    "Then we will add hosts and network segments:"
   ],
   "id": "932c9da7-deae-40c6-8f84-8fde593557a7"
  },
  {
   "cell_type": "code",
   "execution_count": null,
   "metadata": {},
   "outputs": [],
   "source": [
    "# this cell sets up the nodes\n",
    "for n in node_conf:\n",
    "    slice.add_node(name=n['name'], site=site_name, \n",
    "                   cores=n['cores'], \n",
    "                   ram=n['ram'], \n",
    "                   disk=n['disk'], \n",
    "                   image=n['image'])"
   ],
   "id": "9eaa6760-1d69-4031-87b0-d0933e90eea2"
  },
  {
   "cell_type": "code",
   "execution_count": null,
   "metadata": {},
   "outputs": [],
   "source": [
    "# this cell sets up the network segments\n",
    "for n in net_conf:\n",
    "    ifaces = [slice.get_node(node[\"name\"]).add_component(model=\"NIC_Basic\", \n",
    "                                                 name=n[\"name\"]).get_interfaces()[0] for node in n['nodes'] ]\n",
    "    slice.add_l2network(name=n[\"name\"], type='L2Bridge', interfaces=ifaces)"
   ],
   "id": "68b73b85-17df-4c7f-8830-f29b8ceacd84"
  },
  {
   "cell_type": "markdown",
   "metadata": {},
   "source": [
    "The following cell submits our request to the FABRIC site. The output of this cell will update automatically as the status of our request changes.\n",
    "\n",
    "-   While it is being prepared, the “State” of the slice will appear as “Configuring”.\n",
    "-   When it is ready, the “State” of the slice will change to “StableOK”.\n",
    "\n",
    "You may prefer to walk away and come back in a few minutes (for simple slices) or a few tens of minutes (for more complicated slices with many resources)."
   ],
   "id": "4bf088c3-a07e-497e-89e2-29e79620396e"
  },
  {
   "cell_type": "code",
   "execution_count": null,
   "metadata": {},
   "outputs": [],
   "source": [
    "slice.submit()"
   ],
   "id": "10314821-5352-4982-9193-8beb9d398586"
  },
  {
   "cell_type": "code",
   "execution_count": null,
   "metadata": {},
   "outputs": [],
   "source": [
    "slice.get_state()\n",
    "slice.wait_ssh(progress=True)"
   ],
   "id": "f5e00448-991b-4fc8-9375-2b8c099c9c60"
  },
  {
   "cell_type": "markdown",
   "metadata": {},
   "source": [
    "### Extend your slice\n",
    "\n",
    "If you don’t plan to finish an experiment in one day, you can extend your slice. The following cell extends your reservation for 7 days."
   ],
   "id": "71a8f4d9-be38-46bc-b3f9-9780b5587633"
  },
  {
   "cell_type": "code",
   "execution_count": null,
   "metadata": {},
   "outputs": [],
   "source": [
    "from datetime import datetime\n",
    "from datetime import timezone\n",
    "from datetime import timedelta\n",
    "\n",
    "# Set end date to 7 days from now\n",
    "end_date = (datetime.now(timezone.utc) + timedelta(days=7)).strftime(\"%Y-%m-%d %H:%M:%S %z\")\n",
    "slice.renew(end_date)"
   ],
   "id": "4f22e47c-96b5-422e-a8d4-766a480cdd97"
  },
  {
   "cell_type": "markdown",
   "metadata": {},
   "source": [
    "### Configure Experiment"
   ],
   "id": "df742a13-9638-49ac-82d7-ed741c3a22c0"
  },
  {
   "cell_type": "code",
   "execution_count": null,
   "metadata": {},
   "outputs": [],
   "source": [
    "#installing the kernel\n",
    "pkg_list = ['iproute2_5.10.0-1_amd64.deb',\n",
    "            'iproute2-doc_5.10.0-1_all.deb',\n",
    "            'linux-headers-5.15.72-43822a283-prague-43_1_amd64.deb',\n",
    "            'linux-image-5.15.72-43822a283-prague-43_1_amd64.deb',\n",
    "            'linux-libc-dev_1_amd64.deb']\n",
    "for node in slice.get_nodes():\n",
    "    for pkg in pkg_list:\n",
    "        node.upload_file(\"/home/fabric/work/debian_build/\" + pkg, \"/home/ubuntu/\" + pkg)\n",
    "    node.execute(\"sudo dpkg -i \" + \" \".join(pkg_list) + \"; sudo reboot\")\n",
    "\n",
    "# wait for all nodes to come back up\n",
    "slice.wait_ssh(progress=True)\n",
    "for node in slice.get_nodes():\n",
    "    # check kernel version\n",
    "    node.execute(\"hostname; uname -a\")"
   ],
   "id": "10996068-c91a-4565-b28b-69d3cc93f604"
  },
  {
   "cell_type": "code",
   "execution_count": null,
   "metadata": {},
   "outputs": [],
   "source": [
    "#inital configuration for the senders\n",
    "slice.get_node(name=\"tx0\").execute(\"sudo modprobe tcp_prague\")\n",
    "slice.get_node(name=\"tx0\").execute(\"sudo sysctl -w net.ipv4.tcp_congestion_control=prague\")\n",
    "slice.get_node(name=\"tx0\").execute(\"sudo sysctl -w net.ipv4.tcp_ecn=3\")\n",
    "\n",
    "slice.get_node(name=\"tx1\").execute(\"sudo sysctl -w net.ipv4.tcp_congestion_control=cubic\")\n",
    "slice.get_node(name=\"tx1\").execute(\"sudo sysctl -w net.ipv4.tcp_ecn=1\")"
   ],
   "id": "6a2f4c9c-82b7-485d-aee2-4bd99379933a"
  },
  {
   "cell_type": "markdown",
   "metadata": {},
   "source": [
    "### Configure resources\n",
    "\n",
    "Next, we will configure the resources so they are ready to use."
   ],
   "id": "9d3f325e-c50a-441f-8f16-2d3d17d8ddc5"
  },
  {
   "cell_type": "code",
   "execution_count": null,
   "metadata": {},
   "outputs": [],
   "source": [
    "slice = fablib.get_slice(name=slice_name)"
   ],
   "id": "339deaa1-6812-4898-bf20-152e6b878933"
  },
  {
   "cell_type": "code",
   "execution_count": null,
   "metadata": {},
   "outputs": [],
   "source": [
    "# install packages\n",
    "# this will take a while and will run in background while you do other steps\n",
    "for n in node_conf:\n",
    "    if len(n['packages']):\n",
    "        node = slice.get_node(n['name'])\n",
    "        pkg = \" \".join(n['packages'])\n",
    "        node.execute_thread(\"sudo apt update; sudo apt -y install %s\" % pkg)"
   ],
   "id": "08e2eabd-c1cd-426b-a6eb-3ba7ff2f4cd8"
  },
  {
   "cell_type": "code",
   "execution_count": null,
   "metadata": {},
   "outputs": [],
   "source": [
    "# bring interfaces up and either assign an address (if there is one) or flush address\n",
    "from ipaddress import ip_address, IPv4Address, IPv4Network\n",
    "\n",
    "for net in net_conf:\n",
    "    for n in net['nodes']:\n",
    "        if_name = n['name'] + '-' + net['name'] + '-p1'\n",
    "        iface = slice.get_interface(if_name)\n",
    "        iface.ip_link_up()\n",
    "        if n['addr']:\n",
    "            iface.ip_addr_add(addr=n['addr'], subnet=IPv4Network(net['subnet']))\n",
    "        else:\n",
    "            iface.get_node().execute(\"sudo ip addr flush dev %s\"  % iface.get_device_name())"
   ],
   "id": "e65c2775-f748-40ab-aa65-6d182aaa7a31"
  },
  {
   "cell_type": "code",
   "execution_count": null,
   "metadata": {},
   "outputs": [],
   "source": [
    "# prepare a \"hosts\" file that has names and addresses of every node\n",
    "hosts_txt = [ \"%s\\t%s\" % ( n['addr'], n['name'] ) for net in net_conf  for n in net['nodes'] if type(n) is dict and n['addr']]\n",
    "for n in slice.get_nodes():\n",
    "    for h in hosts_txt:\n",
    "        n.execute(\"echo %s | sudo tee -a /etc/hosts\" % h)"
   ],
   "id": "f7c8fdb2-5fb5-4358-9243-96b9c0cc3af1"
  },
  {
   "cell_type": "code",
   "execution_count": null,
   "metadata": {},
   "outputs": [],
   "source": [
    "# enable IPv4 forwarding on all nodes\n",
    "for n in slice.get_nodes():\n",
    "    n.execute(\"sudo sysctl -w net.ipv4.ip_forward=1\")"
   ],
   "id": "5bb80751-3945-4790-b780-da2b87909d76"
  },
  {
   "cell_type": "code",
   "execution_count": null,
   "metadata": {},
   "outputs": [],
   "source": [
    "# set up static routes\n",
    "for rt in route_conf:\n",
    "    for n in rt['nodes']:\n",
    "        slice.get_node(name=n).ip_route_add(subnet=IPv4Network(rt['addr']), gateway=rt['gw'])"
   ],
   "id": "0c88ee9d-9693-47f7-a563-d7275b9188c7"
  },
  {
   "cell_type": "code",
   "execution_count": null,
   "metadata": {},
   "outputs": [],
   "source": [
    "# turn off segmentation offload on interfaces\n",
    "for iface in slice.get_interfaces():\n",
    "    iface_name = iface.get_device_name()\n",
    "    n = iface.get_node()\n",
    "    offloads = [\"gro\", \"lro\", \"gso\", \"tso\"]\n",
    "    for offload in offloads:\n",
    "        n.execute(\"sudo ethtool -K %s %s off\" % (iface_name, offload))"
   ],
   "id": "20b2fe4b-7c7f-4043-9fbb-f4e9ab3d2044"
  },
  {
   "cell_type": "markdown",
   "metadata": {},
   "source": [
    "### Draw the network topology"
   ],
   "id": "36cd23be-d884-4ee2-8ca4-91a3d755f5f0"
  },
  {
   "cell_type": "markdown",
   "metadata": {},
   "source": [
    "The following cell will draw the network topology, for your reference. The interface name and addresses of each experiment interface will be shown on the drawing."
   ],
   "id": "577180bb-562a-497a-92af-5a7f0cf79599"
  },
  {
   "cell_type": "code",
   "execution_count": null,
   "metadata": {},
   "outputs": [],
   "source": [
    "l2_nets = [(n.get_name(), {'color': 'lavender'}) for n in slice.get_l2networks() ]\n",
    "l3_nets = [(n.get_name(), {'color': 'pink'}) for n in slice.get_l3networks() ]\n",
    "hosts   =   [(n.get_name(), {'color': 'lightblue'}) for n in slice.get_nodes()]\n",
    "nodes = l2_nets + l3_nets + hosts\n",
    "ifaces = [iface.toDict() for iface in slice.get_interfaces()]\n",
    "edges = [(iface['network'], iface['node'], \n",
    "          {'label': iface['physical_dev'] + '\\n' + iface['ip_addr'] + '\\n' + iface['mac']}) for iface in ifaces]"
   ],
   "id": "89d66bcd-464a-4bc3-90c4-d07abd31476b"
  },
  {
   "cell_type": "code",
   "execution_count": null,
   "metadata": {},
   "outputs": [],
   "source": [
    "import networkx as nx\n",
    "import matplotlib.pyplot as plt\n",
    "plt.figure(figsize=(len(nodes),len(nodes)))\n",
    "G = nx.Graph()\n",
    "G.add_nodes_from(nodes)\n",
    "G.add_edges_from(edges)\n",
    "pos = nx.spring_layout(G)\n",
    "nx.draw(G, pos, node_shape='s',  \n",
    "        node_color=[n[1]['color'] for n in nodes], \n",
    "        node_size=[len(n[0])*400 for n in nodes],  \n",
    "        with_labels=True);\n",
    "nx.draw_networkx_edge_labels(G,pos,\n",
    "                             edge_labels=nx.get_edge_attributes(G,'label'),\n",
    "                             font_color='gray',  font_size=8, rotate=False);"
   ],
   "id": "a47e30e9-275e-4aa2-875a-e16fe051e4e0"
  },
  {
   "cell_type": "markdown",
   "metadata": {},
   "source": [
    "### Log into resources"
   ],
   "id": "1d5c9328-e71d-4bc5-aeb3-bd6b98634ff2"
  },
  {
   "cell_type": "markdown",
   "metadata": {},
   "source": [
    "Now, we are finally ready to log in to our resources over SSH! Run the following cells, and observe the table output - you will see an SSH command for each of the resources in your topology."
   ],
   "id": "1ffa217e-2627-4620-a267-588fe8cac669"
  },
  {
   "cell_type": "code",
   "execution_count": null,
   "metadata": {},
   "outputs": [],
   "source": [
    "import pandas as pd\n",
    "pd.set_option('display.max_colwidth', None)\n",
    "slice_info = [{'Name': n.get_name(), 'SSH command': n.get_ssh_command()} for n in slice.get_nodes()]\n",
    "pd.DataFrame(slice_info).set_index('Name')"
   ],
   "id": "1339dddc-3d63-4acf-95fb-54e3ff28ae2b"
  },
  {
   "cell_type": "markdown",
   "metadata": {},
   "source": [
    "Now, you can open an SSH session on any of the resources as follows:\n",
    "\n",
    "-   in Jupyter, from the menu bar, use File \\> New \\> Terminal to open a new terminal.\n",
    "-   copy an SSH command from the table, and paste it into the terminal. (Note that each SSH command is a single line, even if the display wraps the text to a second line! When you copy and paste it, paste it all together.)\n",
    "\n",
    "You can repeat this process (open several terminals) to start a session on each resource. Each terminal session will have a tab in the Jupyter environment, so that you can easily switch between them."
   ],
   "id": "04a232c2-123c-48a6-b8f5-011e1bea901c"
  },
  {
   "cell_type": "markdown",
   "metadata": {},
   "source": [
    "### Execute Experiment"
   ],
   "id": "f6c94f15-e416-46c9-b858-22051c43abdc"
  },
  {
   "cell_type": "code",
   "execution_count": null,
   "metadata": {},
   "outputs": [],
   "source": [
    "# nodes and instances\n",
    "\n",
    "tx0_node = slice.get_node(name=\"tx0\")\n",
    "tx1_node = slice.get_node(name=\"tx1\")\n",
    "rx0_node = slice.get_node(name=\"rx0\")\n",
    "rx1_node = slice.get_node(name=\"rx1\")\n",
    "delay_node = slice.get_node(name=\"delay\")\n",
    "router_node = slice.get_node(name=\"router\")\n",
    "switch_node = slice.get_node(name=\"switch\")\n",
    "# interfaces\n",
    "\n",
    "tx0_egress_iface  = tx0_node.get_interface(network_name = \"net-tx0\")\n",
    "tx1_egress_iface  = tx1_node.get_interface(network_name = \"net-tx1\")\n",
    "\n",
    "delay_ingress_tx0_iface  = delay_node.get_interface(network_name = \"net-tx0\")\n",
    "delay_ingress_tx1_iface  = delay_node.get_interface(network_name = \"net-tx1\")\n",
    "delay_egress_iface  = delay_node.get_interface(network_name = \"net-delay-router\")\n",
    "delay_ingress_tx0_name = delay_ingress_tx0_iface.get_device_name()\n",
    "delay_ingress_tx1_name = delay_ingress_tx1_iface.get_device_name()\n",
    "delay_egress_name = delay_egress_iface.get_device_name()\n",
    "\n",
    "router_ingress_iface  = router_node.get_interface(network_name = \"net-delay-router\")\n",
    "router_egress_iface  = router_node.get_interface(network_name = \"net-router-switch\")\n",
    "router_egress_name  = router_egress_iface.get_device_name()\n",
    "\n",
    "\n",
    "rx0_ingress_iface  = rx0_node.get_interface(network_name = \"net-rx0\")\n",
    "rx1_ingress_iface  = rx1_node.get_interface(network_name = \"net-rx1\")"
   ],
   "id": "6061cc20-6ca1-4d5a-8b85-3de68bf38063"
  },
  {
   "cell_type": "code",
   "execution_count": null,
   "metadata": {},
   "outputs": [],
   "source": [
    "# generate full factorial experiment\n",
    "import itertools\n",
    "\n",
    "exp_factors = { \n",
    "    'n_bdp': [0.5, 2, 5, 10], # n x bandwidth delay product\n",
    "    'btl_capacity': [100, 1000],\n",
    "    'base_rtt': [10, 50, 100],\n",
    "    'aqm': ['FIFO', 'single queue FQ', 'Codel', 'FQ', 'FQ_Codel', 'DualPI2'],\n",
    "    'ecn_threshold': [5, 20],\n",
    "    'ecn_fallback': [0, 1], # 0: OFF, 1: ON\n",
    "    'rx0_ecn': [0, 1, 2], #0: noecn, 1:ecn, 2:accecn\n",
    "    'rx1_ecn': [0, 1, 2]  #0: noecn, 1:ecn, 2:accecn\n",
    "\n",
    "}\n",
    "\n",
    "factor_names = [k for k in exp_factors]\n",
    "factor_lists = list(itertools.product(*exp_factors.values()))\n",
    "\n",
    "exp_lists = []\n",
    "for factor_l in factor_lists:\n",
    "    temp_dict = dict(zip(factor_names, factor_l))\n",
    "    if temp_dict['aqm'] == 'FIFO':\n",
    "        del temp_dict['ecn_threshold']\n",
    "    exp_lists.append(temp_dict)\n",
    "\n",
    "data_dir = slice_name + 'singlebottleneck'"
   ],
   "id": "9bdf6998-2f1d-4b66-ae47-c3957d76affb"
  },
  {
   "cell_type": "code",
   "execution_count": null,
   "metadata": {},
   "outputs": [],
   "source": [
    "# run experiments\n",
    "import time\n",
    "d = 2 #duration in seconds\n",
    "\n",
    "em = [delay_ingress_tx0_name, delay_ingress_tx1_name, delay_egress_name]\n",
    "\n",
    "commands_noecn='''\n",
    "sudo sysctl -w net.ipv4.tcp_congestion_control=cubic  \n",
    "sudo sysctl -w net.ipv4.tcp_ecn=0''' #tcp_prague, no ECN\n",
    "\n",
    "commands_ecn='''\n",
    "sudo sysctl -w net.ipv4.tcp_congestion_control=cubic  \n",
    "sudo sysctl -w net.ipv4.tcp_ecn=1''' #tcp_prague, ECN\n",
    "\n",
    "commands_accecn='''\n",
    "sudo sysctl -w net.ipv4.tcp_congestion_control=prague  \n",
    "sudo sysctl -w net.ipv4.tcp_ecn=3''' #tcp_prague, AccECN\n",
    "\n",
    "server_ecn_list=[commands_noecn, commands_ecn, commands_accecn]\n",
    "\n",
    "for exp in exp_lists:\n",
    "\n",
    "    # check if we already ran this experiment\n",
    "    # (allow stop/resume)\n",
    "    name_prague=\"%s_%0.1f_%d_%d_%s_%s_%d_%d_%d.txt\" % (\"prague\",exp['n_bdp'], exp['btl_capacity'], exp['base_rtt'], exp['aqm'], str(exp.get('ecn_threshold', 'none')), exp['ecn_fallback'], exp['rx0_ecn'], exp['rx1_ecn'])\n",
    "    name_cubic=\"%s_%0.1f_%d_%d_%s_%s_%d_%d_%d.txt\" % (\"cubic\",exp['n_bdp'], exp['btl_capacity'], exp['base_rtt'], exp['aqm'], str(exp.get('ecn_threshold', 'none')), exp['ecn_fallback'], exp['rx0_ecn'], exp['rx1_ecn'])\n",
    "    \n",
    "    file_out = data_dir_tx0 + \"-\"+ name_prague\n",
    "    stdout, stderr = tx0_node.execute(\"ls \" + file_out, quiet=True) # run this on the node that saves the output file #write 4 lines\n",
    "\n",
    "    if len(stdout):\n",
    "        print(\"Already have \" + file_out + \", skipping\")\n",
    "\n",
    "    elif len(stderr):\n",
    "        print(\"Running experiment to generate \" + file_out) \n",
    "        \n",
    "        # delay at emulator\n",
    "        for e in em:\n",
    "            cmds = \"sudo tc qdisc replace dev {iface} root netem delay {owd}ms limit 60000\".format(iface=e, owd=exp['base_rtt']/2)\n",
    "            delay_node.execute(cmds)\n",
    "            print(\"successfull\")\n",
    "        \n",
    "        # fixed values\n",
    "        btl_limit    = int(1000*exp['n_bdp']*exp['btl_capacity']*2*exp['base_rtt']/8) # limit of the bottleneck, n_bdp x BDP in bytes \n",
    "        packet_number=int(btl_limit/1500)+1\n",
    "        \n",
    "        \n",
    "        #ecn-fallback configuration\n",
    "               \n",
    "        commands = \"cd /sys/module/tcp_prague/parameters && echo {value} | sudo tee prague_ecn_fallback\".format(value=str(exp['ecn_fallback']))\n",
    "        tx0_node.execute(commands)\n",
    "        \n",
    "        #receiver ecn configuration\n",
    "        rx0_node.execute(server_ecn_list[exp['rx0_ecn']])\n",
    "        rx1_node.execute(server_ecn_list[exp['rx1_ecn']])\n",
    "        \n",
    "        #aqm type selection\n",
    "        if exp['aqm']=='FIFO':\n",
    "            cmds = '''\n",
    "            sudo tc qdisc del dev {iface} root\n",
    "            sudo tc qdisc replace dev {iface} root handle 1: htb default 3 \n",
    "            sudo tc class add dev {iface} parent 1: classid 1:3 htb rate {capacity}mbit \n",
    "            sudo tc qdisc add dev {iface} parent 1:3 handle 3: bfifo limit {buffer} \n",
    "            '''.format(iface=router_egress_name, capacity=exp['btl_capacity'], buffer=btl_limit)\n",
    "            router_node.execute(cmds)\n",
    "        \n",
    "        elif exp['aqm']=='single queue FQ':\n",
    "            cmds = '''\n",
    "            sudo tc qdisc del dev {iface} root\n",
    "            sudo tc qdisc replace dev {iface} root handle 1: htb default 3\n",
    "            sudo tc class add dev {iface} parent 1: classid 1:3 htb rate {capacity}mbit\n",
    "            sudo tc qdisc replace dev {iface} parent 1:3 handle 3: fq limit {packet_limit} flow_limit {packet_limit} orphan_mask 0 ce_threshold {threshold}ms\n",
    "            '''.format(iface=router_egress_name, capacity=exp['btl_capacity'], packet_limit=packet_number, threshold=exp['ecn_threshold'])\n",
    "            router_node.execute(cmds)\n",
    "            \n",
    "            \n",
    "        elif exp['aqm']=='Codel':\n",
    "            cmds = '''\n",
    "            sudo tc qdisc del dev {iface} root\n",
    "            sudo tc qdisc replace dev {iface} root handle 1: htb default 3\n",
    "            sudo tc class add dev {iface} parent 1: classid 1:3 htb rate {capacity}mbit\n",
    "            sudo tc qdisc replace dev {iface} parent 1:3 handle 3: codel limit {packet_limit} target {target}ms interval 100ms ecn ce_threshold {threshold}ms\n",
    "            '''.format(iface=router_egress_name, capacity=exp['btl_capacity'], packet_limit=packet_number, target=exp['base_rtt']*exp['n_bdp'], threshold=exp['ecn_threshold'])\n",
    "            router_node.execute(cmds)\n",
    "            \n",
    "            \n",
    "        elif exp['aqm']=='FQ':\n",
    "            cmds = '''\n",
    "            sudo tc qdisc del dev {iface} root\n",
    "            sudo tc qdisc replace dev {iface} root handle 1: htb default 3\n",
    "            sudo tc class add dev {iface} parent 1: classid 1:3 htb rate {capacity}mbit\n",
    "            sudo tc qdisc replace dev {iface} parent 1:3 handle 3: fq limit {packet_limit} flow_limit {packet_limit} ce_threshold {threshold}ms\n",
    "            '''.format(iface=router_egress_name, capacity=exp['btl_capacity'], packet_limit=packet_number, threshold=exp['ecn_threshold'])\n",
    "            router_node.execute(cmds)\n",
    "            \n",
    "            \n",
    "        elif exp['aqm']=='FQ_Codel':\n",
    "            cmds = '''\n",
    "            sudo tc qdisc del dev {iface} root\n",
    "            sudo tc qdisc replace dev {iface} root handle 1: htb default 3\n",
    "            sudo tc class add dev {iface} parent 1: classid 1:3 htb rate {capacity}mbit\n",
    "            sudo tc qdisc replace dev {iface} parent 1:3 handle 3: fq_codel limit {packet_limit} target {target}ms interval 100ms ecn ce_threshold {threshold}ms\n",
    "            '''.format(iface=router_egress_name, capacity=exp['btl_capacity'], packet_limit=packet_number, target=exp['base_rtt']*exp['n_bdp'], threshold=exp['ecn_threshold'])\n",
    "            router_node.execute(cmds)\n",
    "        \n",
    "        elif exp['aqm']=='DualPI2':\n",
    "            cmds = '''\n",
    "            sudo tc qdisc del dev {iface} root\n",
    "            sudo tc qdisc replace dev {iface} root handle 1: htb default 3\n",
    "            sudo tc class add dev {iface} parent 1: classid 1:3 htb rate {capacity}mbit\n",
    "            sudo tc qdisc add dev {iface} parent 1:3 handle 3: dualpi2 target {threshold}ms\n",
    "            '''.format(iface=router_egress_name, capacity=exp['btl_capacity'], threshold=exp['ecn_threshold'])\n",
    "            router_node.execute(cmds)\n",
    "            \n",
    "    \n",
    "        #starting experiment\n",
    "        #name_prague=\"/%s_%0.1f_%d_%d_%s_%s_%s_%s_%s.txt\" % (\"prague\",exp['n_bdp'], exp['btl_capacity'], exp['base_rtt'], exp['aqm'], str(exp.get('ecn_threshold', 'none')), exp['ecn_fallback'], exp['rx0_ecn'], exp['rx1_ecn'])\n",
    "        #name_cubic=\"/%s_%0.1f_%d_%d_%s_%s_%s_%s_%s.txt\" % (\"cubic\",exp['n_bdp'], exp['btl_capacity'], exp['base_rtt'], exp['aqm'], str(exp.get('ecn_threshold', 'none')), exp['ecn_fallback'], exp['rx0_ecn'], exp['rx1_ecn'])\n",
    "\n",
    "        rx0_node.execute(\"killall iperf3\")\n",
    "        rx1_node.execute(\"killall iperf3\")\n",
    "        \n",
    "        ss_tx0_script=\"rm -f {flow}-ss.txt; start_time=$(date +%s); while true; do ss --no-header -eipn dst 10.0.3.100 | ts '%.s' | tee -a {flow}-ss.txt; current_time=$(date +%s); elapsed_time=$((current_time - start_time));  if [ $elapsed_time -ge {duration} ]; then break; fi; sleep 0.1; done;\"\n",
    "        ss_tx1_script=\"rm -f {flow}-ss.txt; start_time=$(date +%s); while true; do ss --no-header -eipn dst 10.0.4.100 | ts '%.s' | tee -a {flow}-ss.txt; current_time=$(date +%s); elapsed_time=$((current_time - start_time));  if [ $elapsed_time -ge {duration} ]; then break; fi; sleep 0.1; done;\"\n",
    "\n",
    "        #print(\"Starting experiment with {1} bdp {2} capacity {3} rtt {4} {5} thrshold {6} ecn_fallback {7} rx0 {8} rx1 for {duration} seconds\".format(duration=d, 1=exp['n_bdp'], 2=exp['btl_capacity'], 3=exp['base_rtt'], 4=exp['aqm'], 5=exp['ecn_threshold'], 6= exp['ecn_fallback'], 7=exp['rx0_ecn'], 8=exp['rx1_ecn']))\n",
    "        \n",
    "        rx0_node.execute(\"iperf3 -s -1 -p 4000 -D\")\n",
    "        rx1_node.execute(\"iperf3 -s -1 -p 5000 -D\")\n",
    "        \n",
    "        tx0_node.execute_thread(ss_tx0_script.format(flow=name_prague, duration=d))\n",
    "        tx1_node.execute_thread(ss_tx1_script.format(flow=name_cubic, duration=d))\n",
    "        \n",
    "        tx0_node.execute_thread(\"sleep 1; iperf3 -c 10.0.3.100 -t {duration} -P {flows} -C prague -p 4000 -J > {flow}-result.json\".format(flow =name_prague, duration=d, flows=1))\n",
    "        stdout, stderr = tx1_node.execute(\"sleep 1; iperf3 -c 10.0.4.100 -t {duration} -P {flows} -C cubic -p 5000 -J > {flow}-result.json\".format(flow =name_cubic, duration=d, flows=1))\n",
    "        time.sleep(3)\n",
    "        \n",
    "        break\n",
    "        \n",
    "tx0_node.execute('rm -r '+data_dir_tx0)\n",
    "tx0_node.execute('mkdir '+data_dir_tx0)\n",
    "\n",
    "tx0_node.execute('mv *.json '+ data_dir_tx0)\n",
    "tx0_node.execute('mv *.txt '+ data_dir_tx0)\n",
    "        \n",
    "tx0_node.execute('tar -czvf '+data_dir_tx0+ '.tgz ' +  data_dir_tx0)\n",
    "tx0_node.download_file(data_dir_tx0+'.tgz ', '/home/ubuntu/' + data_dir_tx0+ '.tgz')\n",
    "\n",
    "tx1_node.execute('rm -r '+data_dir_tx1)\n",
    "tx1_node.execute('mkdir '+data_dir_tx1)\n",
    "\n",
    "tx1_node.execute('mv *.json '+ data_dir_tx1)\n",
    "tx1_node.execute('mv *.txt '+ data_dir_tx1)\n",
    "        \n",
    "tx1_node.execute('tar -czvf '+data_dir_tx1+ '.tgz ' +  data_dir_tx1)\n",
    "tx1_node.download_file(data_dir_tx1+'.tgz ', '/home/ubuntu/' + data_dir_tx1+ '.tgz')"
   ],
   "id": "4c1e5ef8-6761-41a9-bc17-244eaf2958da"
  }
 ],
 "nbformat": 4,
 "nbformat_minor": 5,
 "metadata": {}
}
