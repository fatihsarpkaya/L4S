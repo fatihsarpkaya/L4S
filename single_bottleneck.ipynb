{
 "cells": [
  {
   "cell_type": "markdown",
   "metadata": {},
   "source": [
    "### Configure environment"
   ],
   "id": "4357a2d5-56c0-4607-9f6f-e34feabfc604"
  },
  {
   "cell_type": "code",
   "execution_count": null,
   "metadata": {},
   "outputs": [],
   "source": [
    "from fabrictestbed_extensions.fablib.fablib import FablibManager as fablib_manager\n",
    "fablib = fablib_manager() \n",
    "conf = fablib.show_config()"
   ],
   "id": "6269118e-3fca-42c0-bca9-0c9f02e9388a"
  },
  {
   "cell_type": "markdown",
   "metadata": {},
   "source": [
    "### Define configuration for this experiment"
   ],
   "id": "c403deb8-73df-488e-a2e5-4ef82bd9caea"
  },
  {
   "cell_type": "code",
   "execution_count": null,
   "metadata": {},
   "outputs": [],
   "source": [
    "slice_name=\"l4s-\" + fablib.get_bastion_username()\n",
    "\n",
    "node_conf = [\n",
    " {'name': \"tx0\",    'cores': 4, 'ram': 32, 'disk': 20, 'image': 'default_ubuntu_22', 'packages': ['iperf3', 'net-tools', 'moreutils']}, \n",
    " {'name': \"tx1\",    'cores': 4, 'ram': 32, 'disk': 20, 'image': 'default_ubuntu_22', 'packages': ['iperf3', 'net-tools', 'moreutils']}, \n",
    " {'name': \"router\", 'cores': 4, 'ram': 32, 'disk': 20, 'image': 'default_ubuntu_22', 'packages': ['iperf3', 'net-tools', 'moreutils']}, \n",
    " {'name': \"delay\", 'cores': 4, 'ram': 32, 'disk': 20, 'image': 'default_ubuntu_22', 'packages': ['iperf3', 'net-tools', 'moreutils']}, \n",
    " {'name': \"switch\", 'cores': 4, 'ram': 32, 'disk': 20, 'image': 'default_ubuntu_22', 'packages': ['iperf3', 'net-tools', 'moreutils']}, \n",
    " {'name': \"rx0\",    'cores': 4, 'ram': 32, 'disk': 20, 'image': 'default_ubuntu_22', 'packages': ['iperf3', 'net-tools', 'moreutils']}, \n",
    " {'name': \"rx1\",    'cores': 4, 'ram': 32, 'disk': 20, 'image': 'default_ubuntu_22', 'packages': ['iperf3', 'net-tools', 'moreutils']}\n",
    "]\n",
    "net_conf = [\n",
    " {\"name\": \"net-tx0\", \"subnet\": \"10.0.0.0/24\", \"nodes\": [{\"name\": \"tx0\",   \"addr\": \"10.0.0.100\"}, {\"name\": \"delay\", \"addr\": \"10.0.0.101\"}]},\n",
    " {\"name\": \"net-tx1\", \"subnet\": \"10.0.1.0/24\", \"nodes\": [{\"name\": \"tx1\", \"addr\": \"10.0.1.100\"}, {\"name\": \"delay\", \"addr\": \"10.0.1.101\"}]},\n",
    " {\"name\": \"net-delay-router\", \"subnet\": \"10.0.2.0/24\", \"nodes\": [{\"name\": \"delay\",   \"addr\": \"10.0.2.1\"}, {\"name\": \"router\", \"addr\": \"10.0.2.2\"}]},\n",
    " {\"name\": \"net-router-switch\", \"subnet\": \"10.0.5.0/24\", \"nodes\": [{\"name\": \"router\",   \"addr\": \"10.0.5.1\"}, {\"name\": \"switch\", \"addr\": \"10.0.5.2\"}]},\n",
    " {\"name\": \"net-rx0\", \"subnet\": \"10.0.3.0/24\", \"nodes\": [{\"name\": \"rx0\",   \"addr\": \"10.0.3.100\"}, {\"name\": \"switch\", \"addr\": \"10.0.3.101\"}]},\n",
    " {\"name\": \"net-rx1\", \"subnet\": \"10.0.4.0/24\", \"nodes\": [{\"name\": \"rx1\", \"addr\": \"10.0.4.100\"}, {\"name\": \"switch\", \"addr\": \"10.0.4.101\"}]}\n",
    "\n",
    "]\n",
    "route_conf = [\n",
    " {\"addr\": \"10.0.3.0/24\", \"gw\": \"10.0.0.101\", \"nodes\": [\"tx0\"]}, \n",
    " {\"addr\": \"10.0.4.0/24\", \"gw\": \"10.0.1.101\", \"nodes\": [\"tx1\"]}, \n",
    " {\"addr\": \"10.0.3.0/24\", \"gw\": \"10.0.2.2\", \"nodes\": [\"delay\"]},\n",
    " {\"addr\": \"10.0.4.0/24\", \"gw\": \"10.0.2.2\", \"nodes\": [\"delay\"]},\n",
    " {\"addr\": \"10.0.3.0/24\", \"gw\": \"10.0.5.2\", \"nodes\": [\"router\"]},\n",
    " {\"addr\": \"10.0.4.0/24\", \"gw\": \"10.0.5.2\", \"nodes\": [\"router\"]},\n",
    "\n",
    " {\"addr\": \"10.0.0.0/24\", \"gw\": \"10.0.3.101\", \"nodes\": [\"rx0\"]},\n",
    " {\"addr\": \"10.0.1.0/24\", \"gw\": \"10.0.4.101\", \"nodes\": [\"rx1\"]},\n",
    " {\"addr\": \"10.0.0.0/24\", \"gw\": \"10.0.5.1\", \"nodes\": [\"switch\"]},\n",
    " {\"addr\": \"10.0.1.0/24\", \"gw\": \"10.0.5.1\", \"nodes\": [\"switch\"]},\n",
    " {\"addr\": \"10.0.0.0/24\", \"gw\": \"10.0.2.1\", \"nodes\": [\"router\"]},\n",
    " {\"addr\": \"10.0.1.0/24\", \"gw\": \"10.0.2.1\", \"nodes\": [\"router\"]},\n",
    "\n",
    "]\n",
    "exp_conf = {'cores': sum([ n['cores'] for n in node_conf]), 'nic': sum([len(n['nodes']) for n in net_conf]) }"
   ],
   "id": "4c947e98-0292-452f-bc64-95d80e0ffea6"
  },
  {
   "cell_type": "markdown",
   "metadata": {},
   "source": [
    "### Reserve resources\n",
    "\n",
    "Now, we are ready to reserve resources!"
   ],
   "id": "94ad58b3-847a-4702-a68b-10e1ee6aa742"
  },
  {
   "cell_type": "markdown",
   "metadata": {},
   "source": [
    "First, make sure you don’t already have a slice with this name:"
   ],
   "id": "2b47d08b-7c87-4ba0-a0bd-bfb6449ae87d"
  },
  {
   "cell_type": "code",
   "execution_count": null,
   "metadata": {},
   "outputs": [],
   "source": [
    "try:\n",
    "    slice = fablib.get_slice(slice_name)\n",
    "    print(\"You already have a slice by this name!\")\n",
    "    print(\"If you previously reserved resources, skip to the 'log in to resources' section.\")\n",
    "except:\n",
    "    print(\"You don't have a slice named %s yet.\" % slice_name)\n",
    "    print(\"Continue to the next step to make one.\")\n",
    "    slice = fablib.new_slice(name=slice_name)"
   ],
   "id": "1b847fb1-89be-4621-aa22-605d4a369604"
  },
  {
   "cell_type": "markdown",
   "metadata": {},
   "source": [
    "We will select a random site that has sufficient resources for our experiment:"
   ],
   "id": "f119fe84-14dd-49cf-af89-773882d20c3c"
  },
  {
   "cell_type": "code",
   "execution_count": null,
   "metadata": {},
   "outputs": [],
   "source": [
    "while True:\n",
    "    site_name = fablib.get_random_site()\n",
    "    if ( (fablib.resources.get_core_available(site_name) > 1.2*exp_conf['cores']) and\n",
    "        (fablib.resources.get_component_available(site_name, 'SharedNIC-ConnectX-6') > 1.2**exp_conf['nic']) ):\n",
    "        break\n",
    "\n",
    "fablib.show_site(site_name)"
   ],
   "id": "5e29b932-81d8-4cb0-af46-07a80633c823"
  },
  {
   "cell_type": "markdown",
   "metadata": {},
   "source": [
    "Then we will add hosts and network segments:"
   ],
   "id": "e2e5dfe8-c20a-44dd-b574-9c5a6d4130f5"
  },
  {
   "cell_type": "code",
   "execution_count": null,
   "metadata": {},
   "outputs": [],
   "source": [
    "# this cell sets up the nodes\n",
    "for n in node_conf:\n",
    "    slice.add_node(name=n['name'], site=site_name, \n",
    "                   cores=n['cores'], \n",
    "                   ram=n['ram'], \n",
    "                   disk=n['disk'], \n",
    "                   image=n['image'])"
   ],
   "id": "30119f69-2a7d-4038-bc28-cfc8cafc8cb4"
  },
  {
   "cell_type": "code",
   "execution_count": null,
   "metadata": {},
   "outputs": [],
   "source": [
    "# this cell sets up the network segments\n",
    "for n in net_conf:\n",
    "    ifaces = [slice.get_node(node[\"name\"]).add_component(model=\"NIC_Basic\", \n",
    "                                                 name=n[\"name\"]).get_interfaces()[0] for node in n['nodes'] ]\n",
    "    slice.add_l2network(name=n[\"name\"], type='L2Bridge', interfaces=ifaces)"
   ],
   "id": "b58781d4-37d7-4b80-a9f3-5f788c36197e"
  },
  {
   "cell_type": "markdown",
   "metadata": {},
   "source": [
    "The following cell submits our request to the FABRIC site. The output of this cell will update automatically as the status of our request changes.\n",
    "\n",
    "-   While it is being prepared, the “State” of the slice will appear as “Configuring”.\n",
    "-   When it is ready, the “State” of the slice will change to “StableOK”.\n",
    "\n",
    "You may prefer to walk away and come back in a few minutes (for simple slices) or a few tens of minutes (for more complicated slices with many resources)."
   ],
   "id": "d574b9ed-d107-4115-95ad-0daeceedcb56"
  },
  {
   "cell_type": "code",
   "execution_count": null,
   "metadata": {},
   "outputs": [],
   "source": [
    "slice.submit()"
   ],
   "id": "7febc749-d506-4478-be9c-b73e8153d06f"
  },
  {
   "cell_type": "code",
   "execution_count": null,
   "metadata": {},
   "outputs": [],
   "source": [
    "slice.get_state()\n",
    "slice.wait_ssh(progress=True)"
   ],
   "id": "f2234e9d-ee93-4a13-9236-ef8663eeca84"
  },
  {
   "cell_type": "markdown",
   "metadata": {},
   "source": [
    "### Extend your slice\n",
    "\n",
    "If you don’t plan to finish an experiment in one day, you can extend your slice. The following cell extends your reservation for 7 days."
   ],
   "id": "f3a0a847-5168-455d-8913-4b1a86eb4760"
  },
  {
   "cell_type": "code",
   "execution_count": null,
   "metadata": {},
   "outputs": [],
   "source": [
    "from datetime import datetime\n",
    "from datetime import timezone\n",
    "from datetime import timedelta\n",
    "\n",
    "# Set end date to 7 days from now\n",
    "end_date = (datetime.now(timezone.utc) + timedelta(days=7)).strftime(\"%Y-%m-%d %H:%M:%S %z\")\n",
    "slice.renew(end_date)"
   ],
   "id": "a790c8e5-4fdd-4da8-a575-e2e76fc182ea"
  },
  {
   "cell_type": "markdown",
   "metadata": {},
   "source": [
    "### Configure Experiment"
   ],
   "id": "b1535be3-25d3-4dd0-8bed-da52763fb880"
  },
  {
   "cell_type": "code",
   "execution_count": null,
   "metadata": {},
   "outputs": [],
   "source": [
    " installing the kernel\n",
    "pkg_list = ['iproute2_5.10.0-1_amd64.deb',\n",
    "            'iproute2-doc_5.10.0-1_all.deb',\n",
    "            'linux-headers-5.15.72-43822a283-prague-43_1_amd64.deb',\n",
    "            'linux-image-5.15.72-43822a283-prague-43_1_amd64.deb',\n",
    "            'linux-libc-dev_1_amd64.deb']\n",
    "for node in slice.get_nodes():\n",
    "    for pkg in pkg_list:\n",
    "        node.upload_file(\"/home/fabric/work/setup/\" + pkg, \"/home/ubuntu/\" + pkg)\n",
    "    node.execute(\"sudo dpkg -i \" + \" \".join(pkg_list) + \"; sudo reboot\")\n",
    "\n",
    "# wait for all nodes to come back up\n",
    "slice.wait_ssh(progress=True)\n",
    "for node in slice.get_nodes():\n",
    "    # check kernel version\n",
    "    node.execute(\"hostname; uname -a\")"
   ],
   "id": "851f9213-d9c8-47ea-aedb-36d8fadca0d1"
  },
  {
   "cell_type": "code",
   "execution_count": null,
   "metadata": {},
   "outputs": [],
   "source": [
    "#inital configuration for the senders\n",
    "slice.get_node(name=\"tx0\").execute(\"sudo modprobe tcp_prague\")\n",
    "slice.get_node(name=\"tx0\").execute(\"sudo sysctl -w net.ipv4.tcp_congestion_control=prague\")\n",
    "slice.get_node(name=\"tx0\").execute(\"sudo sysctl -w net.ipv4.tcp_ecn=3\")\n",
    "\n",
    "slice.get_node(name=\"tx1\").execute(\"sudo sysctl -w net.ipv4.tcp_congestion_control=cubic\")\n",
    "slice.get_node(name=\"tx1\").execute(\"sudo sysctl -w net.ipv4.tcp_ecn=1\")"
   ],
   "id": "57967559-16e0-42af-8075-a4a0ecf04e82"
  },
  {
   "cell_type": "markdown",
   "metadata": {},
   "source": [
    "### Configure resources\n",
    "\n",
    "Next, we will configure the resources so they are ready to use."
   ],
   "id": "f2e60d06-39ed-4b6e-952e-7546104dc647"
  },
  {
   "cell_type": "code",
   "execution_count": null,
   "metadata": {},
   "outputs": [],
   "source": [
    "slice = fablib.get_slice(name=slice_name)"
   ],
   "id": "a35261c9-1631-40aa-95f3-cdff6c326f1a"
  },
  {
   "cell_type": "code",
   "execution_count": null,
   "metadata": {},
   "outputs": [],
   "source": [
    "# install packages\n",
    "# this will take a while and will run in background while you do other steps\n",
    "for n in node_conf:\n",
    "    if len(n['packages']):\n",
    "        node = slice.get_node(n['name'])\n",
    "        pkg = \" \".join(n['packages'])\n",
    "        node.execute_thread(\"sudo apt update; sudo apt -y install %s\" % pkg)"
   ],
   "id": "c29310ed-5394-4a80-907a-194b49b18247"
  },
  {
   "cell_type": "code",
   "execution_count": null,
   "metadata": {},
   "outputs": [],
   "source": [
    "# bring interfaces up and either assign an address (if there is one) or flush address\n",
    "from ipaddress import ip_address, IPv4Address, IPv4Network\n",
    "\n",
    "for net in net_conf:\n",
    "    for n in net['nodes']:\n",
    "        if_name = n['name'] + '-' + net['name'] + '-p1'\n",
    "        iface = slice.get_interface(if_name)\n",
    "        iface.ip_link_up()\n",
    "        if n['addr']:\n",
    "            iface.ip_addr_add(addr=n['addr'], subnet=IPv4Network(net['subnet']))\n",
    "        else:\n",
    "            iface.get_node().execute(\"sudo ip addr flush dev %s\"  % iface.get_device_name())"
   ],
   "id": "fe7e0248-d310-4ab6-bd2e-a18b990fc539"
  },
  {
   "cell_type": "code",
   "execution_count": null,
   "metadata": {},
   "outputs": [],
   "source": [
    "# prepare a \"hosts\" file that has names and addresses of every node\n",
    "hosts_txt = [ \"%s\\t%s\" % ( n['addr'], n['name'] ) for net in net_conf  for n in net['nodes'] if type(n) is dict and n['addr']]\n",
    "for n in slice.get_nodes():\n",
    "    for h in hosts_txt:\n",
    "        n.execute(\"echo %s | sudo tee -a /etc/hosts\" % h)"
   ],
   "id": "6566299c-b912-4944-aa6a-5523d2b9ebb9"
  },
  {
   "cell_type": "code",
   "execution_count": null,
   "metadata": {},
   "outputs": [],
   "source": [
    "# enable IPv4 forwarding on all nodes\n",
    "for n in slice.get_nodes():\n",
    "    n.execute(\"sudo sysctl -w net.ipv4.ip_forward=1\")"
   ],
   "id": "028be39e-9119-4577-9f00-e9223ee9e6d0"
  },
  {
   "cell_type": "code",
   "execution_count": null,
   "metadata": {},
   "outputs": [],
   "source": [
    "# set up static routes\n",
    "for rt in route_conf:\n",
    "    for n in rt['nodes']:\n",
    "        slice.get_node(name=n).ip_route_add(subnet=IPv4Network(rt['addr']), gateway=rt['gw'])"
   ],
   "id": "dc08c279-a713-4d30-a9cb-bc42d9027428"
  },
  {
   "cell_type": "code",
   "execution_count": null,
   "metadata": {},
   "outputs": [],
   "source": [
    "# turn off segmentation offload on interfaces\n",
    "for iface in slice.get_interfaces():\n",
    "    iface_name = iface.get_device_name()\n",
    "    n = iface.get_node()\n",
    "    offloads = [\"gro\", \"lro\", \"gso\", \"tso\"]\n",
    "    for offload in offloads:\n",
    "        n.execute(\"sudo ethtool -K %s %s off\" % (iface_name, offload))"
   ],
   "id": "2985aa24-c5ac-47af-8ba2-f7fb15b9ba3d"
  },
  {
   "cell_type": "markdown",
   "metadata": {},
   "source": [
    "### Draw the network topology"
   ],
   "id": "e83fdfef-d094-4ed4-bd18-f55cdb90d28a"
  },
  {
   "cell_type": "markdown",
   "metadata": {},
   "source": [
    "The following cell will draw the network topology, for your reference. The interface name and addresses of each experiment interface will be shown on the drawing."
   ],
   "id": "5efd30c5-ece7-4c78-829b-d2b3bb72179e"
  },
  {
   "cell_type": "code",
   "execution_count": null,
   "metadata": {},
   "outputs": [],
   "source": [
    "l2_nets = [(n.get_name(), {'color': 'lavender'}) for n in slice.get_l2networks() ]\n",
    "l3_nets = [(n.get_name(), {'color': 'pink'}) for n in slice.get_l3networks() ]\n",
    "hosts   =   [(n.get_name(), {'color': 'lightblue'}) for n in slice.get_nodes()]\n",
    "nodes = l2_nets + l3_nets + hosts\n",
    "ifaces = [iface.toDict() for iface in slice.get_interfaces()]\n",
    "edges = [(iface['network'], iface['node'], \n",
    "          {'label': iface['physical_dev'] + '\\n' + iface['ip_addr'] + '\\n' + iface['mac']}) for iface in ifaces]"
   ],
   "id": "851e64b0-d92c-486d-90cf-22aa3f8f08ce"
  },
  {
   "cell_type": "code",
   "execution_count": null,
   "metadata": {},
   "outputs": [],
   "source": [
    "import networkx as nx\n",
    "import matplotlib.pyplot as plt\n",
    "plt.figure(figsize=(len(nodes),len(nodes)))\n",
    "G = nx.Graph()\n",
    "G.add_nodes_from(nodes)\n",
    "G.add_edges_from(edges)\n",
    "pos = nx.spring_layout(G)\n",
    "nx.draw(G, pos, node_shape='s',  \n",
    "        node_color=[n[1]['color'] for n in nodes], \n",
    "        node_size=[len(n[0])*400 for n in nodes],  \n",
    "        with_labels=True);\n",
    "nx.draw_networkx_edge_labels(G,pos,\n",
    "                             edge_labels=nx.get_edge_attributes(G,'label'),\n",
    "                             font_color='gray',  font_size=8, rotate=False);"
   ],
   "id": "11f1f4e7-76bc-4b7d-93da-8281ac2cbbdf"
  },
  {
   "cell_type": "markdown",
   "metadata": {},
   "source": [
    "### Log into resources"
   ],
   "id": "a422df2c-55f9-47e3-a67c-7a6e52909f48"
  },
  {
   "cell_type": "markdown",
   "metadata": {},
   "source": [
    "Now, we are finally ready to log in to our resources over SSH! Run the following cells, and observe the table output - you will see an SSH command for each of the resources in your topology."
   ],
   "id": "edd43458-c9bd-4813-ba37-b0480f8d4cb7"
  },
  {
   "cell_type": "code",
   "execution_count": null,
   "metadata": {},
   "outputs": [],
   "source": [
    "import pandas as pd\n",
    "pd.set_option('display.max_colwidth', None)\n",
    "slice_info = [{'Name': n.get_name(), 'SSH command': n.get_ssh_command()} for n in slice.get_nodes()]\n",
    "pd.DataFrame(slice_info).set_index('Name')"
   ],
   "id": "c100779c-b6bc-464c-a530-dfbb63c17eda"
  },
  {
   "cell_type": "markdown",
   "metadata": {},
   "source": [
    "Now, you can open an SSH session on any of the resources as follows:\n",
    "\n",
    "-   in Jupyter, from the menu bar, use File \\> New \\> Terminal to open a new terminal.\n",
    "-   copy an SSH command from the table, and paste it into the terminal. (Note that each SSH command is a single line, even if the display wraps the text to a second line! When you copy and paste it, paste it all together.)\n",
    "\n",
    "You can repeat this process (open several terminals) to start a session on each resource. Each terminal session will have a tab in the Jupyter environment, so that you can easily switch between them."
   ],
   "id": "c227795e-1941-421d-8a9b-0f1f8175b7a3"
  },
  {
   "cell_type": "markdown",
   "metadata": {},
   "source": [
    "### Execute Experiment"
   ],
   "id": "4db50587-c40a-4ad6-87bf-aba2e7df6818"
  },
  {
   "cell_type": "code",
   "execution_count": null,
   "metadata": {},
   "outputs": [],
   "source": [
    "# nodes and instances\n",
    "\n",
    "tx0_node = slice.get_node(name=\"tx0\")\n",
    "tx1_node = slice.get_node(name=\"tx1\")\n",
    "rx0_node = slice.get_node(name=\"rx0\")\n",
    "rx1_node = slice.get_node(name=\"rx1\")\n",
    "delay_node = slice.get_node(name=\"delay\")\n",
    "router_node = slice.get_node(name=\"router\")\n",
    "switch_node = slice.get_node(name=\"switch\")\n",
    "# interfaces\n",
    "\n",
    "tx0_egress_iface  = tx0_node.get_interface(network_name = \"net-tx0\")\n",
    "tx1_egress_iface  = tx1_node.get_interface(network_name = \"net-tx1\")\n",
    "\n",
    "delay_ingress_tx0_iface  = delay_node.get_interface(network_name = \"net-tx0\")\n",
    "delay_ingress_tx1_iface  = delay_node.get_interface(network_name = \"net-tx1\")\n",
    "delay_egress_iface  = delay_node.get_interface(network_name = \"net-delay-router\")\n",
    "delay_ingress_tx0_name = delay_ingress_tx0_iface.get_device_name()\n",
    "delay_ingress_tx1_name = delay_ingress_tx1_iface.get_device_name()\n",
    "delay_egress_name = delay_egress_iface.get_device_name()\n",
    "\n",
    "router_ingress_iface  = router_node.get_interface(network_name = \"net-delay-router\")\n",
    "router_egress_iface  = router_node.get_interface(network_name = \"net-router-switch\")\n",
    "router_egress_name  = router_egress_iface.get_device_name()\n",
    "\n",
    "\n",
    "rx0_ingress_iface  = rx0_node.get_interface(network_name = \"net-rx0\")\n",
    "rx1_ingress_iface  = rx1_node.get_interface(network_name = \"net-rx1\")"
   ],
   "id": "4f7c1754-d05d-419d-a684-561552decb3b"
  },
  {
   "cell_type": "code",
   "execution_count": null,
   "metadata": {},
   "outputs": [],
   "source": [
    "# generate full factorial experiment\n",
    "import itertools\n",
    "\n",
    "exp_factors = { \n",
    "    'n_bdp': [0.5, 2, 5, 10], # n x bandwidth delay product\n",
    "    'btl_capacity': [100, 1000],\n",
    "    'base_rtt': [10, 50, 100],\n",
    "    'aqm': ['FIFO', 'single queue FQ', 'Codel', 'FQ', 'FQ_Codel', 'DualPI2'],\n",
    "    'ecn_threshold': [5, 20],\n",
    "    'ecn_fallback': [0, 1], # 0: OFF, 1: ON\n",
    "    'rx0_ecn': [0, 1, 2], #0: noecn, 1:ecn, 2:accecn\n",
    "    'rx1_ecn': [0, 1, 2]  #0: noecn, 1:ecn, 2:accecn\n",
    "\n",
    "}\n",
    "\n",
    "factor_names = [k for k in exp_factors]\n",
    "factor_lists = list(itertools.product(*exp_factors.values()))\n",
    "\n",
    "exp_lists = []\n",
    "for factor_l in factor_lists:\n",
    "    temp_dict = dict(zip(factor_names, factor_l))\n",
    "    if temp_dict['aqm'] == 'FIFO':\n",
    "        del temp_dict['ecn_threshold']\n",
    "    exp_lists.append(temp_dict)\n",
    "\n",
    "data_dir = slice_name + 'singlebottleneck'"
   ],
   "id": "c30ef9e6-68ff-486b-9616-1250f98c2975"
  },
  {
   "cell_type": "code",
   "execution_count": null,
   "metadata": {},
   "outputs": [],
   "source": [
    "# run experiments\n",
    "import time\n",
    "d = 2 #duration in seconds\n",
    "\n",
    "em = [delay_ingress_tx0_name, delay_ingress_tx1_name, delay_egress_name]\n",
    "\n",
    "commands_noecn='''\n",
    "sudo sysctl -w net.ipv4.tcp_congestion_control=cubic  \n",
    "sudo sysctl -w net.ipv4.tcp_ecn=0''' #tcp_prague, no ECN\n",
    "\n",
    "commands_ecn='''\n",
    "sudo sysctl -w net.ipv4.tcp_congestion_control=cubic  \n",
    "sudo sysctl -w net.ipv4.tcp_ecn=1''' #tcp_prague, ECN\n",
    "\n",
    "commands_accecn='''\n",
    "sudo sysctl -w net.ipv4.tcp_congestion_control=prague  \n",
    "sudo sysctl -w net.ipv4.tcp_ecn=3''' #tcp_prague, AccECN\n",
    "\n",
    "server_ecn_list=[commands_noecn, commands_ecn, commands_accecn]\n",
    "\n",
    "for exp in exp_lists:\n",
    "\n",
    "    # check if we already ran this experiment\n",
    "    # (allow stop/resume)\n",
    "    name_prague=\"%s_%0.1f_%d_%d_%s_%s_%d_%d_%d.txt\" % (\"prague\",exp['n_bdp'], exp['btl_capacity'], exp['base_rtt'], exp['aqm'], str(exp.get('ecn_threshold', 'none')), exp['ecn_fallback'], exp['rx0_ecn'], exp['rx1_ecn'])\n",
    "    name_cubic=\"%s_%0.1f_%d_%d_%s_%s_%d_%d_%d.txt\" % (\"cubic\",exp['n_bdp'], exp['btl_capacity'], exp['base_rtt'], exp['aqm'], str(exp.get('ecn_threshold', 'none')), exp['ecn_fallback'], exp['rx0_ecn'], exp['rx1_ecn'])\n",
    "    \n",
    "    file_out = data_dir_tx0 + \"-\"+ name_prague\n",
    "    stdout, stderr = tx0_node.execute(\"ls \" + file_out, quiet=True) # run this on the node that saves the output file #write 4 lines\n",
    "\n",
    "    if len(stdout):\n",
    "        print(\"Already have \" + file_out + \", skipping\")\n",
    "\n",
    "    elif len(stderr):\n",
    "        print(\"Running experiment to generate \" + file_out) \n",
    "        \n",
    "        # delay at emulator\n",
    "        for e in em:\n",
    "            cmds = \"sudo tc qdisc replace dev {iface} root netem delay {owd}ms limit 60000\".format(iface=e, owd=exp['base_rtt']/2)\n",
    "            delay_node.execute(cmds)\n",
    "            print(\"successfull\")\n",
    "        \n",
    "        # fixed values\n",
    "        btl_limit    = int(1000*exp['n_bdp']*exp['btl_capacity']*2*exp['base_rtt']/8) # limit of the bottleneck, n_bdp x BDP in bytes \n",
    "        packet_number=int(btl_limit/1500)+1\n",
    "        \n",
    "        \n",
    "        #ecn-fallback configuration\n",
    "               \n",
    "        commands = \"cd /sys/module/tcp_prague/parameters && echo {value} | sudo tee prague_ecn_fallback\".format(value=str(exp['ecn_fallback']))\n",
    "        tx0_node.execute(commands)\n",
    "        \n",
    "        #receiver ecn configuration\n",
    "        rx0_node.execute(server_ecn_list[exp['rx0_ecn']])\n",
    "        rx1_node.execute(server_ecn_list[exp['rx1_ecn']])\n",
    "        \n",
    "        #aqm type selection\n",
    "        if exp['aqm']=='FIFO':\n",
    "            cmds = '''\n",
    "            sudo tc qdisc del dev {iface} root\n",
    "            sudo tc qdisc replace dev {iface} root handle 1: htb default 3 \n",
    "            sudo tc class add dev {iface} parent 1: classid 1:3 htb rate {capacity}mbit \n",
    "            sudo tc qdisc add dev {iface} parent 1:3 handle 3: bfifo limit {buffer} \n",
    "            '''.format(iface=router_egress_name, capacity=exp['btl_capacity'], buffer=btl_limit)\n",
    "            router_node.execute(cmds)\n",
    "        \n",
    "        elif exp['aqm']=='single queue FQ':\n",
    "            cmds = '''\n",
    "            sudo tc qdisc del dev {iface} root\n",
    "            sudo tc qdisc replace dev {iface} root handle 1: htb default 3\n",
    "            sudo tc class add dev {iface} parent 1: classid 1:3 htb rate {capacity}mbit\n",
    "            sudo tc qdisc replace dev {iface} parent 1:3 handle 3: fq limit {packet_limit} flow_limit {packet_limit} orphan_mask 0 ce_threshold {threshold}ms\n",
    "            '''.format(iface=router_egress_name, capacity=exp['btl_capacity'], packet_limit=packet_number, threshold=exp['ecn_threshold'])\n",
    "            router_node.execute(cmds)\n",
    "            \n",
    "            \n",
    "        elif exp['aqm']=='Codel':\n",
    "            cmds = '''\n",
    "            sudo tc qdisc del dev {iface} root\n",
    "            sudo tc qdisc replace dev {iface} root handle 1: htb default 3\n",
    "            sudo tc class add dev {iface} parent 1: classid 1:3 htb rate {capacity}mbit\n",
    "            sudo tc qdisc replace dev {iface} parent 1:3 handle 3: codel limit {packet_limit} target {target}ms interval 100ms ecn ce_threshold {threshold}ms\n",
    "            '''.format(iface=router_egress_name, capacity=exp['btl_capacity'], packet_limit=packet_number, target=exp['base_rtt']*exp['n_bdp'], threshold=exp['ecn_threshold'])\n",
    "            router_node.execute(cmds)\n",
    "            \n",
    "            \n",
    "        elif exp['aqm']=='FQ':\n",
    "            cmds = '''\n",
    "            sudo tc qdisc del dev {iface} root\n",
    "            sudo tc qdisc replace dev {iface} root handle 1: htb default 3\n",
    "            sudo tc class add dev {iface} parent 1: classid 1:3 htb rate {capacity}mbit\n",
    "            sudo tc qdisc replace dev {iface} parent 1:3 handle 3: fq limit {packet_limit} flow_limit {packet_limit} ce_threshold {threshold}ms\n",
    "            '''.format(iface=router_egress_name, capacity=exp['btl_capacity'], packet_limit=packet_number, threshold=exp['ecn_threshold'])\n",
    "            router_node.execute(cmds)\n",
    "            \n",
    "            \n",
    "        elif exp['aqm']=='FQ_Codel':\n",
    "            cmds = '''\n",
    "            sudo tc qdisc del dev {iface} root\n",
    "            sudo tc qdisc replace dev {iface} root handle 1: htb default 3\n",
    "            sudo tc class add dev {iface} parent 1: classid 1:3 htb rate {capacity}mbit\n",
    "            sudo tc qdisc replace dev {iface} parent 1:3 handle 3: fq_codel limit {packet_limit} target {target}ms interval 100ms ecn ce_threshold {threshold}ms\n",
    "            '''.format(iface=router_egress_name, capacity=exp['btl_capacity'], packet_limit=packet_number, target=exp['base_rtt']*exp['n_bdp'], threshold=exp['ecn_threshold'])\n",
    "            router_node.execute(cmds)\n",
    "        \n",
    "        elif exp['aqm']=='DualPI2':\n",
    "            cmds = '''\n",
    "            sudo tc qdisc del dev {iface} root\n",
    "            sudo tc qdisc replace dev {iface} root handle 1: htb default 3\n",
    "            sudo tc class add dev {iface} parent 1: classid 1:3 htb rate {capacity}mbit\n",
    "            sudo tc qdisc add dev {iface} parent 1:3 handle 3: dualpi2 target {threshold}ms\n",
    "            '''.format(iface=router_egress_name, capacity=exp['btl_capacity'], threshold=exp['ecn_threshold'])\n",
    "            router_node.execute(cmds)\n",
    "            \n",
    "    \n",
    "        #starting experiment\n",
    "        #name_prague=\"/%s_%0.1f_%d_%d_%s_%s_%s_%s_%s.txt\" % (\"prague\",exp['n_bdp'], exp['btl_capacity'], exp['base_rtt'], exp['aqm'], str(exp.get('ecn_threshold', 'none')), exp['ecn_fallback'], exp['rx0_ecn'], exp['rx1_ecn'])\n",
    "        #name_cubic=\"/%s_%0.1f_%d_%d_%s_%s_%s_%s_%s.txt\" % (\"cubic\",exp['n_bdp'], exp['btl_capacity'], exp['base_rtt'], exp['aqm'], str(exp.get('ecn_threshold', 'none')), exp['ecn_fallback'], exp['rx0_ecn'], exp['rx1_ecn'])\n",
    "\n",
    "        rx0_node.execute(\"killall iperf3\")\n",
    "        rx1_node.execute(\"killall iperf3\")\n",
    "        \n",
    "        ss_tx0_script=\"rm -f {flow}-ss.txt; start_time=$(date +%s); while true; do ss --no-header -eipn dst 10.0.3.100 | ts '%.s' | tee -a {flow}-ss.txt; current_time=$(date +%s); elapsed_time=$((current_time - start_time));  if [ $elapsed_time -ge {duration} ]; then break; fi; sleep 0.1; done;\"\n",
    "        ss_tx1_script=\"rm -f {flow}-ss.txt; start_time=$(date +%s); while true; do ss --no-header -eipn dst 10.0.4.100 | ts '%.s' | tee -a {flow}-ss.txt; current_time=$(date +%s); elapsed_time=$((current_time - start_time));  if [ $elapsed_time -ge {duration} ]; then break; fi; sleep 0.1; done;\"\n",
    "\n",
    "        #print(\"Starting experiment with {1} bdp {2} capacity {3} rtt {4} {5} thrshold {6} ecn_fallback {7} rx0 {8} rx1 for {duration} seconds\".format(duration=d, 1=exp['n_bdp'], 2=exp['btl_capacity'], 3=exp['base_rtt'], 4=exp['aqm'], 5=exp['ecn_threshold'], 6= exp['ecn_fallback'], 7=exp['rx0_ecn'], 8=exp['rx1_ecn']))\n",
    "        \n",
    "        rx0_node.execute(\"iperf3 -s -1 -p 4000 -D\")\n",
    "        rx1_node.execute(\"iperf3 -s -1 -p 5000 -D\")\n",
    "        \n",
    "        tx0_node.execute_thread(ss_tx0_script.format(flow=name_prague, duration=d))\n",
    "        tx1_node.execute_thread(ss_tx1_script.format(flow=name_cubic, duration=d))\n",
    "        \n",
    "        tx0_node.execute_thread(\"sleep 1; iperf3 -c 10.0.3.100 -t {duration} -P {flows} -C prague -p 4000 -J > {flow}-result.json\".format(flow =name_prague, duration=d, flows=1))\n",
    "        stdout, stderr = tx1_node.execute(\"sleep 1; iperf3 -c 10.0.4.100 -t {duration} -P {flows} -C cubic -p 5000 -J > {flow}-result.json\".format(flow =name_cubic, duration=d, flows=1))\n",
    "        time.sleep(3)\n",
    "        \n",
    "        break\n",
    "        \n",
    "tx0_node.execute('rm -r '+data_dir_tx0)\n",
    "tx0_node.execute('mkdir '+data_dir_tx0)\n",
    "\n",
    "tx0_node.execute('mv *.json '+ data_dir_tx0)\n",
    "tx0_node.execute('mv *.txt '+ data_dir_tx0)\n",
    "        \n",
    "tx0_node.execute('tar -czvf '+data_dir_tx0+ '.tgz ' +  data_dir_tx0)\n",
    "tx0_node.download_file(data_dir_tx0+'.tgz ', '/home/ubuntu/' + data_dir_tx0+ '.tgz')\n",
    "\n",
    "tx1_node.execute('rm -r '+data_dir_tx1)\n",
    "tx1_node.execute('mkdir '+data_dir_tx1)\n",
    "\n",
    "tx1_node.execute('mv *.json '+ data_dir_tx1)\n",
    "tx1_node.execute('mv *.txt '+ data_dir_tx1)\n",
    "        \n",
    "tx1_node.execute('tar -czvf '+data_dir_tx1+ '.tgz ' +  data_dir_tx1)\n",
    "tx1_node.download_file(data_dir_tx1+'.tgz ', '/home/ubuntu/' + data_dir_tx1+ '.tgz')"
   ],
   "id": "a4f417d4-2781-4226-8d0d-249a66233f5c"
  }
 ],
 "nbformat": 4,
 "nbformat_minor": 5,
 "metadata": {}
}
