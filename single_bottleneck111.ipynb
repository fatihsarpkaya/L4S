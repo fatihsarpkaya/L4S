{
 "cells": [
  {
   "cell_type": "markdown",
   "metadata": {},
   "source": [
    "### Configure environment"
   ],
   "id": "5bd8f55c-9d71-4daa-b5e9-989e44407d7e"
  },
  {
   "cell_type": "code",
   "execution_count": null,
   "metadata": {},
   "outputs": [],
   "source": [
    "from fabrictestbed_extensions.fablib.fablib import FablibManager as fablib_manager\n",
    "fablib = fablib_manager() \n",
    "conf = fablib.show_config()"
   ],
   "id": "54f75c40-c45b-4279-a0d1-5e8de99dc7c6"
  },
  {
   "cell_type": "markdown",
   "metadata": {},
   "source": [
    "### Define configuration for this experiment"
   ],
   "id": "7984e4db-666f-4aeb-b2db-968d2f508e05"
  },
  {
   "cell_type": "code",
   "execution_count": null,
   "metadata": {},
   "outputs": [],
   "source": [
    "slice_name=\"l4s-\" + fablib.get_bastion_username()\n",
    "\n",
    "node_conf = [\n",
    " {'name': \"tx0\",    'cores': 4, 'ram': 32, 'disk': 20, 'image': 'default_ubuntu_22', 'packages': ['iperf3', 'net-tools', 'moreutils']}, \n",
    " {'name': \"tx1\",    'cores': 4, 'ram': 32, 'disk': 20, 'image': 'default_ubuntu_22', 'packages': ['iperf3', 'net-tools', 'moreutils']}, \n",
    " {'name': \"router\", 'cores': 4, 'ram': 32, 'disk': 20, 'image': 'default_ubuntu_22', 'packages': ['iperf3', 'net-tools', 'moreutils']}, \n",
    " {'name': \"delay\", 'cores': 4, 'ram': 32, 'disk': 20, 'image': 'default_ubuntu_22', 'packages': ['iperf3', 'net-tools', 'moreutils']}, \n",
    " {'name': \"rx0\",    'cores': 4, 'ram': 32, 'disk': 20, 'image': 'default_ubuntu_22', 'packages': ['iperf3', 'net-tools', 'moreutils']}, \n",
    " {'name': \"rx1\",    'cores': 4, 'ram': 32, 'disk': 20, 'image': 'default_ubuntu_22', 'packages': ['iperf3', 'net-tools', 'moreutils']}\n",
    "]\n",
    "net_conf = [\n",
    " {\"name\": \"net-tx0\", \"subnet\": \"10.0.0.0/24\", \"nodes\": [{\"name\": \"tx0\",   \"addr\": \"10.0.0.100\"}, {\"name\": \"delay\", \"addr\": \"10.0.0.101\"}]},\n",
    " {\"name\": \"net-tx1\", \"subnet\": \"10.0.1.0/24\", \"nodes\": [{\"name\": \"tx1\", \"addr\": \"10.0.1.100\"}, {\"name\": \"delay\", \"addr\": \"10.0.1.101\"}]},\n",
    " {\"name\": \"net-delay-router\", \"subnet\": \"10.0.2.0/24\", \"nodes\": [{\"name\": \"delay\",   \"addr\": \"10.0.2.1\"}, {\"name\": \"router\", \"addr\": \"10.0.2.2\"}]},\n",
    " {\"name\": \"net-rx0\", \"subnet\": \"10.0.3.0/24\", \"nodes\": [{\"name\": \"rx0\",   \"addr\": \"10.0.3.100\"}, {\"name\": \"router\", \"addr\": \"10.0.3.101\"}]},\n",
    " {\"name\": \"net-rx1\", \"subnet\": \"10.0.4.0/24\", \"nodes\": [{\"name\": \"rx1\", \"addr\": \"10.0.4.100\"}, {\"name\": \"router\", \"addr\": \"10.0.4.101\"}]}\n",
    "\n",
    "]\n",
    "route_conf = [\n",
    " {\"addr\": \"10.0.3.0/24\", \"gw\": \"10.0.0.101\", \"nodes\": [\"tx0\"]}, \n",
    " {\"addr\": \"10.0.4.0/24\", \"gw\": \"10.0.1.101\", \"nodes\": [\"tx1\"]}, \n",
    " {\"addr\": \"10.0.3.0/24\", \"gw\": \"10.0.2.2\", \"nodes\": [\"delay\"]},\n",
    " {\"addr\": \"10.0.4.0/24\", \"gw\": \"10.0.2.2\", \"nodes\": [\"delay\"]},\n",
    " {\"addr\": \"10.0.0.0/24\", \"gw\": \"10.0.3.101\", \"nodes\": [\"rx0\"]},\n",
    " {\"addr\": \"10.0.1.0/24\", \"gw\": \"10.0.4.101\", \"nodes\": [\"rx1\"]},\n",
    " {\"addr\": \"10.0.0.0/24\", \"gw\": \"10.0.2.1\", \"nodes\": [\"router\"]},\n",
    " {\"addr\": \"10.0.1.0/24\", \"gw\": \"10.0.2.1\", \"nodes\": [\"router\"]},\n",
    "\n",
    "]\n",
    "exp_conf = {'cores': sum([ n['cores'] for n in node_conf]), 'nic': sum([len(n['nodes']) for n in net_conf]) }"
   ],
   "id": "ab4a18f6-5338-41ec-8113-54bda75dbf9e"
  },
  {
   "cell_type": "markdown",
   "metadata": {},
   "source": [
    "### Reserve resources\n",
    "\n",
    "Now, we are ready to reserve resources!"
   ],
   "id": "9f2ee7bf-eac2-4076-b640-5685b8ab4d86"
  },
  {
   "cell_type": "markdown",
   "metadata": {},
   "source": [
    "First, make sure you don’t already have a slice with this name:"
   ],
   "id": "23b93b43-b8ab-45b4-b93b-d01941d36959"
  },
  {
   "cell_type": "code",
   "execution_count": null,
   "metadata": {},
   "outputs": [],
   "source": [
    "try:\n",
    "    slice = fablib.get_slice(slice_name)\n",
    "    print(\"You already have a slice by this name!\")\n",
    "    print(\"If you previously reserved resources, skip to the 'log in to resources' section.\")\n",
    "except:\n",
    "    print(\"You don't have a slice named %s yet.\" % slice_name)\n",
    "    print(\"Continue to the next step to make one.\")\n",
    "    slice = fablib.new_slice(name=slice_name)"
   ],
   "id": "5a5f4c3a-2580-441d-b490-7a67654f9ccc"
  },
  {
   "cell_type": "markdown",
   "metadata": {},
   "source": [
    "We will select a random site that has sufficient resources for our experiment:"
   ],
   "id": "8d01cd33-52d3-40c3-b696-ec4a062775ea"
  },
  {
   "cell_type": "code",
   "execution_count": null,
   "metadata": {},
   "outputs": [],
   "source": [
    "while True:\n",
    "    site_name = fablib.get_random_site()\n",
    "    if ( (fablib.resources.get_core_available(site_name) > 1.2*exp_conf['cores']) and\n",
    "        (fablib.resources.get_component_available(site_name, 'SharedNIC-ConnectX-6') > 1.2**exp_conf['nic']) ):\n",
    "        break\n",
    "\n",
    "fablib.show_site(site_name)"
   ],
   "id": "6751d6ca-5451-4270-930f-afefcc5b9abc"
  },
  {
   "cell_type": "markdown",
   "metadata": {},
   "source": [
    "Then we will add hosts and network segments:"
   ],
   "id": "808e9d92-23f9-451c-94ea-93864518d3cd"
  },
  {
   "cell_type": "code",
   "execution_count": null,
   "metadata": {},
   "outputs": [],
   "source": [
    "# this cell sets up the nodes\n",
    "for n in node_conf:\n",
    "    slice.add_node(name=n['name'], site=site_name, \n",
    "                   cores=n['cores'], \n",
    "                   ram=n['ram'], \n",
    "                   disk=n['disk'], \n",
    "                   image=n['image'])"
   ],
   "id": "2dc464b6-b7b8-48ed-882b-7c728382940e"
  },
  {
   "cell_type": "code",
   "execution_count": null,
   "metadata": {},
   "outputs": [],
   "source": [
    "# this cell sets up the network segments\n",
    "for n in net_conf:\n",
    "    ifaces = [slice.get_node(node[\"name\"]).add_component(model=\"NIC_Basic\", \n",
    "                                                 name=n[\"name\"]).get_interfaces()[0] for node in n['nodes'] ]\n",
    "    slice.add_l2network(name=n[\"name\"], type='L2Bridge', interfaces=ifaces)"
   ],
   "id": "e7867edc-4bd1-4b92-82e7-f698d044be5c"
  },
  {
   "cell_type": "markdown",
   "metadata": {},
   "source": [
    "The following cell submits our request to the FABRIC site. The output of this cell will update automatically as the status of our request changes.\n",
    "\n",
    "-   While it is being prepared, the “State” of the slice will appear as “Configuring”.\n",
    "-   When it is ready, the “State” of the slice will change to “StableOK”.\n",
    "\n",
    "You may prefer to walk away and come back in a few minutes (for simple slices) or a few tens of minutes (for more complicated slices with many resources)."
   ],
   "id": "9c0b51be-4d27-4ec2-85e9-f49f5dc6508e"
  },
  {
   "cell_type": "code",
   "execution_count": null,
   "metadata": {},
   "outputs": [],
   "source": [
    "slice.submit()"
   ],
   "id": "6804e9dd-e8d3-4869-9d62-70245be89645"
  },
  {
   "cell_type": "code",
   "execution_count": null,
   "metadata": {},
   "outputs": [],
   "source": [
    "slice.get_state()\n",
    "slice.wait_ssh(progress=True)"
   ],
   "id": "05230af1-09d6-4c7d-a52d-f2538f8f1e9b"
  },
  {
   "cell_type": "markdown",
   "metadata": {},
   "source": [
    "### Extend your slice\n",
    "\n",
    "If you don’t plan to finish an experiment in one day, you can extend your slice. The following cell extends your reservation for 7 days."
   ],
   "id": "8beada26-90b9-4b96-9bbc-fea93191f93c"
  },
  {
   "cell_type": "code",
   "execution_count": null,
   "metadata": {},
   "outputs": [],
   "source": [
    "from datetime import datetime\n",
    "from datetime import timezone\n",
    "from datetime import timedelta\n",
    "\n",
    "# Set end date to 7 days from now\n",
    "end_date = (datetime.now(timezone.utc) + timedelta(days=7)).strftime(\"%Y-%m-%d %H:%M:%S %z\")\n",
    "slice.renew(end_date)"
   ],
   "id": "894178d0-8e31-4abf-a3e9-1897f72181bd"
  },
  {
   "cell_type": "markdown",
   "metadata": {},
   "source": [
    "### Configure resources\n",
    "\n",
    "Next, we will configure the resources so they are ready to use."
   ],
   "id": "42a93575-5569-4f8c-8185-aec7c3f5ff8f"
  },
  {
   "cell_type": "code",
   "execution_count": null,
   "metadata": {},
   "outputs": [],
   "source": [
    "slice = fablib.get_slice(name=slice_name)"
   ],
   "id": "9441b81d-d789-45a4-ac46-bd926239608f"
  },
  {
   "cell_type": "code",
   "execution_count": null,
   "metadata": {},
   "outputs": [],
   "source": [
    "# install packages\n",
    "# this will take a while and will run in background while you do other steps\n",
    "for n in node_conf:\n",
    "    if len(n['packages']):\n",
    "        node = slice.get_node(n['name'])\n",
    "        pkg = \" \".join(n['packages'])\n",
    "        node.execute_thread(\"sudo apt update; sudo apt -y install %s\" % pkg)"
   ],
   "id": "87dca669-2b5d-49d8-9980-a98f4b0920d5"
  },
  {
   "cell_type": "code",
   "execution_count": null,
   "metadata": {},
   "outputs": [],
   "source": [
    "# bring interfaces up and either assign an address (if there is one) or flush address\n",
    "from ipaddress import ip_address, IPv4Address, IPv4Network\n",
    "\n",
    "for net in net_conf:\n",
    "    for n in net['nodes']:\n",
    "        if_name = n['name'] + '-' + net['name'] + '-p1'\n",
    "        iface = slice.get_interface(if_name)\n",
    "        iface.ip_link_up()\n",
    "        if n['addr']:\n",
    "            iface.ip_addr_add(addr=n['addr'], subnet=IPv4Network(net['subnet']))\n",
    "        else:\n",
    "            iface.get_node().execute(\"sudo ip addr flush dev %s\"  % iface.get_device_name())"
   ],
   "id": "a6d7c978-c166-40d8-8a93-e3aed89991cd"
  },
  {
   "cell_type": "code",
   "execution_count": null,
   "metadata": {},
   "outputs": [],
   "source": [
    "# prepare a \"hosts\" file that has names and addresses of every node\n",
    "hosts_txt = [ \"%s\\t%s\" % ( n['addr'], n['name'] ) for net in net_conf  for n in net['nodes'] if type(n) is dict and n['addr']]\n",
    "for n in slice.get_nodes():\n",
    "    for h in hosts_txt:\n",
    "        n.execute(\"echo %s | sudo tee -a /etc/hosts\" % h)"
   ],
   "id": "bbe09a4f-b5b1-4c94-b055-be3907621df1"
  },
  {
   "cell_type": "code",
   "execution_count": null,
   "metadata": {},
   "outputs": [],
   "source": [
    "# enable IPv4 forwarding on all nodes\n",
    "for n in slice.get_nodes():\n",
    "    n.execute(\"sudo sysctl -w net.ipv4.ip_forward=1\")"
   ],
   "id": "c7063a63-ac46-4407-8b92-ca5fa2d06501"
  },
  {
   "cell_type": "code",
   "execution_count": null,
   "metadata": {},
   "outputs": [],
   "source": [
    "# set up static routes\n",
    "for rt in route_conf:\n",
    "    for n in rt['nodes']:\n",
    "        slice.get_node(name=n).ip_route_add(subnet=IPv4Network(rt['addr']), gateway=rt['gw'])"
   ],
   "id": "3923749c-9b40-45c7-b4bd-24d06583098b"
  },
  {
   "cell_type": "code",
   "execution_count": null,
   "metadata": {},
   "outputs": [],
   "source": [
    "# turn off segmentation offload on interfaces\n",
    "for iface in slice.get_interfaces():\n",
    "    iface_name = iface.get_device_name()\n",
    "    n = iface.get_node()\n",
    "    offloads = [\"gro\", \"lro\", \"gso\", \"tso\"]\n",
    "    for offload in offloads:\n",
    "        n.execute(\"sudo ethtool -K %s %s off\" % (iface_name, offload))"
   ],
   "id": "32f91718-c0d1-4985-8416-a062d4d838ba"
  },
  {
   "cell_type": "markdown",
   "metadata": {},
   "source": [
    "### Configure Experiment"
   ],
   "id": "b43704b1-70b5-4aa2-a7c9-c438221ab3ce"
  },
  {
   "cell_type": "code",
   "execution_count": null,
   "metadata": {},
   "outputs": [],
   "source": [
    " installing the kernel\n",
    "pkg_list = ['iproute2_5.10.0-1_amd64.deb',\n",
    "            'iproute2-doc_5.10.0-1_all.deb',\n",
    "            'linux-headers-5.15.72-43822a283-prague-43_1_amd64.deb',\n",
    "            'linux-image-5.15.72-43822a283-prague-43_1_amd64.deb',\n",
    "            'linux-libc-dev_1_amd64.deb']\n",
    "for node in slice.get_nodes():\n",
    "    for pkg in pkg_list:\n",
    "        node.upload_file(\"/home/fabric/work/setup/\" + pkg, \"/home/ubuntu/\" + pkg)\n",
    "    node.execute(\"sudo dpkg -i \" + \" \".join(pkg_list) + \"; sudo reboot\")\n",
    "\n",
    "# wait for all nodes to come back up\n",
    "slice.wait_ssh(progress=True)\n",
    "for node in slice.get_nodes():\n",
    "    # check kernel version\n",
    "    node.execute(\"hostname; uname -a\")"
   ],
   "id": "3ae8a2ec-4899-419c-9adb-bb83689e1497"
  },
  {
   "cell_type": "code",
   "execution_count": null,
   "metadata": {},
   "outputs": [],
   "source": [
    "#inital configuration for the senders\n",
    "slice.get_node(name=\"tx0\").execute(\"sudo modprobe tcp_prague\")\n",
    "slice.get_node(name=\"tx0\").execute(\"sudo sysctl -w net.ipv4.tcp_congestion_control=prague\")\n",
    "slice.get_node(name=\"tx0\").execute(\"sudo sysctl -w net.ipv4.tcp_ecn=3\")\n",
    "\n",
    "slice.get_node(name=\"tx1\").execute(\"sudo sysctl -w net.ipv4.tcp_congestion_control=cubic\")\n",
    "slice.get_node(name=\"tx1\").execute(\"sudo sysctl -w net.ipv4.tcp_ecn=1\")"
   ],
   "id": "bbe41d11-cb3b-4f40-b97e-00c1c27f069e"
  },
  {
   "cell_type": "markdown",
   "metadata": {},
   "source": [
    "### Draw the network topology"
   ],
   "id": "5088b563-aea3-4b25-8bcf-c520f21a98f8"
  },
  {
   "cell_type": "markdown",
   "metadata": {},
   "source": [
    "The following cell will draw the network topology, for your reference. The interface name and addresses of each experiment interface will be shown on the drawing."
   ],
   "id": "c8909694-0cf0-4a47-930b-9a74b21583a4"
  },
  {
   "cell_type": "code",
   "execution_count": null,
   "metadata": {},
   "outputs": [],
   "source": [
    "l2_nets = [(n.get_name(), {'color': 'lavender'}) for n in slice.get_l2networks() ]\n",
    "l3_nets = [(n.get_name(), {'color': 'pink'}) for n in slice.get_l3networks() ]\n",
    "hosts   =   [(n.get_name(), {'color': 'lightblue'}) for n in slice.get_nodes()]\n",
    "nodes = l2_nets + l3_nets + hosts\n",
    "ifaces = [iface.toDict() for iface in slice.get_interfaces()]\n",
    "edges = [(iface['network'], iface['node'], \n",
    "          {'label': iface['physical_dev'] + '\\n' + iface['ip_addr'] + '\\n' + iface['mac']}) for iface in ifaces]"
   ],
   "id": "76794418-3a21-40c6-8a49-dd38227e918c"
  },
  {
   "cell_type": "code",
   "execution_count": null,
   "metadata": {},
   "outputs": [],
   "source": [
    "import networkx as nx\n",
    "import matplotlib.pyplot as plt\n",
    "plt.figure(figsize=(len(nodes),len(nodes)))\n",
    "G = nx.Graph()\n",
    "G.add_nodes_from(nodes)\n",
    "G.add_edges_from(edges)\n",
    "pos = nx.spring_layout(G)\n",
    "nx.draw(G, pos, node_shape='s',  \n",
    "        node_color=[n[1]['color'] for n in nodes], \n",
    "        node_size=[len(n[0])*400 for n in nodes],  \n",
    "        with_labels=True);\n",
    "nx.draw_networkx_edge_labels(G,pos,\n",
    "                             edge_labels=nx.get_edge_attributes(G,'label'),\n",
    "                             font_color='gray',  font_size=8, rotate=False);"
   ],
   "id": "86a80f6d-7b7d-4634-9569-fa4b787da3ad"
  },
  {
   "cell_type": "markdown",
   "metadata": {},
   "source": [
    "### Log into resources"
   ],
   "id": "ce5322ad-e3c6-4abf-8a3f-2bc37f38c4d0"
  },
  {
   "cell_type": "markdown",
   "metadata": {},
   "source": [
    "Now, we are finally ready to log in to our resources over SSH! Run the following cells, and observe the table output - you will see an SSH command for each of the resources in your topology."
   ],
   "id": "628a5d2f-e488-4662-9b18-9139b4e4b071"
  },
  {
   "cell_type": "code",
   "execution_count": null,
   "metadata": {},
   "outputs": [],
   "source": [
    "import pandas as pd\n",
    "pd.set_option('display.max_colwidth', None)\n",
    "slice_info = [{'Name': n.get_name(), 'SSH command': n.get_ssh_command()} for n in slice.get_nodes()]\n",
    "pd.DataFrame(slice_info).set_index('Name')"
   ],
   "id": "0db0bf1b-1547-4cd7-a528-0932f91f80e0"
  },
  {
   "cell_type": "markdown",
   "metadata": {},
   "source": [
    "Now, you can open an SSH session on any of the resources as follows:\n",
    "\n",
    "-   in Jupyter, from the menu bar, use File \\> New \\> Terminal to open a new terminal.\n",
    "-   copy an SSH command from the table, and paste it into the terminal. (Note that each SSH command is a single line, even if the display wraps the text to a second line! When you copy and paste it, paste it all together.)\n",
    "\n",
    "You can repeat this process (open several terminals) to start a session on each resource. Each terminal session will have a tab in the Jupyter environment, so that you can easily switch between them."
   ],
   "id": "338752eb-2cb5-4f41-958f-6da8ea317ae4"
  },
  {
   "cell_type": "markdown",
   "metadata": {},
   "source": [
    "### Execute Experiment"
   ],
   "id": "b3f42bb4-2fc6-4fcc-8298-91f822ede94d"
  },
  {
   "cell_type": "code",
   "execution_count": null,
   "metadata": {},
   "outputs": [],
   "source": [
    "# nodes and instances\n",
    "\n",
    "tx0_node = slice.get_node(name=\"tx0\")\n",
    "tx1_node = slice.get_node(name=\"tx1\")\n",
    "rx0_node = slice.get_node(name=\"rx0\")\n",
    "rx1_node = slice.get_node(name=\"rx1\")\n",
    "delay_node = slice.get_node(name=\"delay\")\n",
    "router_node = slice.get_node(name=\"router\")\n",
    "\n",
    "# interfaces\n",
    "\n",
    "tx0_egress_iface  = tx0_node.get_interface(network_name = \"net-tx0\")\n",
    "tx1_egress_iface  = tx1_node.get_interface(network_name = \"net-tx1\")\n",
    "\n",
    "delay_ingress_tx0_iface  = delay_node.get_interface(network_name = \"net-tx0\")\n",
    "delay_ingress_tx1_iface  = delay_node.get_interface(network_name = \"net-tx1\")\n",
    "delay_egress_iface  = delay_node.get_interface(network_name = \"net-delay-router\")\n",
    "delay_ingress_tx0_name = delay_ingress_tx0_iface.get_device_name()\n",
    "delay_ingress_tx1_name = delay_ingress_tx1_iface.get_device_name()\n",
    "delay_egress_name = delay_egress_iface.get_device_name()\n",
    "\n",
    "router_ingress_iface  = router_node.get_interface(network_name = \"net-delay-router\")\n",
    "router_egress_rx0_iface  = router_node.get_interface(network_name = \"net-rx0\")\n",
    "router_egress_rx1_iface  = router_node.get_interface(network_name = \"net-rx1\")\n",
    "\n",
    "router_egress_rx0_name  = router_egress_rx0_iface.get_device_name()\n",
    "router_egress_rx1_name  = router_egress_rx1_iface.get_device_name()\n",
    "\n",
    "\n",
    "rx0_ingress_iface  = rx0_node.get_interface(network_name = \"net-rx0\")\n",
    "rx1_ingress_iface  = rx1_node.get_interface(network_name = \"net-rx1\")"
   ],
   "id": "b261d1dd-c1d9-43a7-9862-eb1d830a3cce"
  },
  {
   "cell_type": "code",
   "execution_count": null,
   "metadata": {},
   "outputs": [],
   "source": [
    "# generate full factorial experiment\n",
    "import itertools\n",
    "\n",
    "exp_factors = { \n",
    "    'n_bdp': [0.5, 2, 5, 10], # n x bandwidth delay product\n",
    "    'btl_capacity': [100, 1000],\n",
    "    'base_rtt': [10, 50, 100],\n",
    "    'aqm': ['FIFO', 'single queue FQ', 'Codel', 'FQ', 'FQ_Codel', 'DualPI2'],\n",
    "    'ecn_threshold': [5, 20],\n",
    "    'ecn_fallback': [0, 1], # 0: OFF, 1: ON\n",
    "    'rx0_ecn': [0, 1, 2], #0: noecn, 1:ecn, 2:accecn\n",
    "    'rx1_ecn': [0, 1, 2]  #0: noecn, 1:ecn, 2:accecn\n",
    "\n",
    "}\n",
    "\n",
    "factor_names = [k for k in exp_factors]\n",
    "factor_lists = list(itertools.product(*exp_factors.values()))\n",
    "\n",
    "exp_lists = []\n",
    "for factor_l in factor_lists:\n",
    "    temp_dict = dict(zip(factor_names, factor_l))\n",
    "    if temp_dict['aqm'] == 'FIFO':\n",
    "        del temp_dict['ecn_threshold']\n",
    "    exp_lists.append(temp_dict)\n",
    "\n",
    "data_dir = slice_name + 'singlebottleneck'"
   ],
   "id": "6b92136e-8cb1-427a-b958-d5039b87aedd"
  },
  {
   "cell_type": "code",
   "execution_count": null,
   "metadata": {},
   "outputs": [],
   "source": [
    "# run experiments\n",
    "import time\n",
    "d = 2 #duration in seconds\n",
    "\n",
    "em = [delay_ingress_tx0_name, delay_ingress_tx1_name, delay_egress_name]\n",
    "\n",
    "commands_noecn='''\n",
    "sudo sysctl -w net.ipv4.tcp_congestion_control=cubic  \n",
    "sudo sysctl -w net.ipv4.tcp_ecn=0''' #tcp_prague, no ECN\n",
    "\n",
    "commands_ecn='''\n",
    "sudo sysctl -w net.ipv4.tcp_congestion_control=cubic  \n",
    "sudo sysctl -w net.ipv4.tcp_ecn=1''' #tcp_prague, ECN\n",
    "\n",
    "commands_accecn='''\n",
    "sudo sysctl -w net.ipv4.tcp_congestion_control=prague  \n",
    "sudo sysctl -w net.ipv4.tcp_ecn=3''' #tcp_prague, AccECN\n",
    "\n",
    "server_ecn_list=[commands_noecn, commands_ecn, commands_accecn]\n",
    "\n",
    "for exp in exp_lists:\n",
    "\n",
    "    # check if we already ran this experiment\n",
    "    # (allow stop/resume)\n",
    "    name_prague=\"%s_%0.1f_%d_%d_%s_%s_%d_%d_%d.txt\" % (\"prague\",exp['n_bdp'], exp['btl_capacity'], exp['base_rtt'], exp['aqm'], str(exp.get('ecn_threshold', 'none')), exp['ecn_fallback'], exp['rx0_ecn'], exp['rx1_ecn'])\n",
    "    name_cubic=\"%s_%0.1f_%d_%d_%s_%s_%d_%d_%d.txt\" % (\"cubic\",exp['n_bdp'], exp['btl_capacity'], exp['base_rtt'], exp['aqm'], str(exp.get('ecn_threshold', 'none')), exp['ecn_fallback'], exp['rx0_ecn'], exp['rx1_ecn'])\n",
    "    \n",
    "    file_out = data_dir_tx0 + \"-\"+ name_prague\n",
    "    stdout, stderr = tx0_node.execute(\"ls \" + file_out, quiet=True) # run this on the node that saves the output file #write 4 lines\n",
    "\n",
    "    if len(stdout):\n",
    "        print(\"Already have \" + file_out + \", skipping\")\n",
    "\n",
    "    elif len(stderr):\n",
    "        print(\"Running experiment to generate \" + file_out) \n",
    "        \n",
    "        # delay at emulator\n",
    "        for e in em:\n",
    "            cmds = \"sudo tc qdisc replace dev {iface} root netem delay {owd}ms limit 60000\".format(iface=e, owd=exp['base_rtt']/2)\n",
    "            delay_node.execute(cmds)\n",
    "            print(\"successfull\")\n",
    "        \n",
    "        # fixed values\n",
    "        btl_limit    = int(1000*exp['n_bdp']*exp['btl_capacity']*2*exp['base_rtt']/8) # limit of the bottleneck, n_bdp x BDP in bytes \n",
    "        packet_number=int(btl_limit/1500)+1\n",
    "        \n",
    "        \n",
    "        #ecn-fallback configuration\n",
    "               \n",
    "        commands = \"cd /sys/module/tcp_prague/parameters && echo {value} | sudo tee prague_ecn_fallback\".format(value=str(exp['ecn_fallback']))\n",
    "        tx0_node.execute(commands)\n",
    "        \n",
    "        #receiver ecn configuration\n",
    "        rx0_node.execute(server_ecn_list[exp['rx0_ecn']])\n",
    "        rx1_node.execute(server_ecn_list[exp['rx1_ecn']])\n",
    "        \n",
    "        #aqm type selection\n",
    "        if exp['aqm']=='FIFO':\n",
    "            cmds = '''\n",
    "            sudo tc qdisc del dev {iface} root\n",
    "            sudo tc qdisc replace dev {iface} root handle 1: htb default 3 \n",
    "            sudo tc class add dev {iface} parent 1: classid 1:3 htb rate {capacity}mbit \n",
    "            sudo tc qdisc add dev {iface} parent 1:3 handle 3: bfifo limit {buffer} \n",
    "            '''.format(iface=router_ingress_name, capacity=exp['btl_capacity'], buffer=btl_limit)\n",
    "            router_node.execute(cmds)\n",
    "        \n",
    "        elif exp['aqm']=='single queue FQ':\n",
    "            cmds = '''\n",
    "            sudo tc qdisc del dev {iface} root\n",
    "            sudo tc qdisc replace dev {iface} root handle 1: htb default 3\n",
    "            sudo tc class add dev {iface} parent 1: classid 1:3 htb rate {capacity}mbit\n",
    "            sudo tc qdisc replace dev {iface} parent 1:3 handle 3: fq limit {packet_limit} flow_limit {packet_limit} orphan_mask 0 ce_threshold {threshold}ms\n",
    "            '''.format(iface=router_egress_name, capacity=exp['btl_capacity'], packet_limit=packet_number, threshold=exp['ecn_threshold'])\n",
    "            router_node.execute(cmds)\n",
    "            \n",
    "            \n",
    "        elif exp['aqm']=='Codel':\n",
    "            cmds = '''\n",
    "            sudo tc qdisc del dev {iface} root\n",
    "            sudo tc qdisc replace dev {iface} root handle 1: htb default 3\n",
    "            sudo tc class add dev {iface} parent 1: classid 1:3 htb rate {capacity}mbit\n",
    "            sudo tc qdisc replace dev {iface} parent 1:3 handle 3: codel limit {packet_limit} target {target}ms interval 100ms ecn ce_threshold {threshold}ms\n",
    "            '''.format(iface=router_egress_name, capacity=exp['btl_capacity'], packet_limit=packet_number, target=exp['base_rtt']*exp['n_bdp'], threshold=exp['ecn_threshold'])\n",
    "            router_node.execute(cmds)\n",
    "            \n",
    "            \n",
    "        elif exp['aqm']=='FQ':\n",
    "            cmds = '''\n",
    "            sudo tc qdisc del dev {iface} root\n",
    "            sudo tc qdisc replace dev {iface} root handle 1: htb default 3\n",
    "            sudo tc class add dev {iface} parent 1: classid 1:3 htb rate {capacity}mbit\n",
    "            sudo tc qdisc replace dev {iface} parent 1:3 handle 3: fq limit {packet_limit} flow_limit {packet_limit} ce_threshold {threshold}ms\n",
    "            '''.format(iface=router_egress_name, capacity=exp['btl_capacity'], packet_limit=packet_number, threshold=exp['ecn_threshold'])\n",
    "            router_node.execute(cmds)\n",
    "            \n",
    "            \n",
    "        elif exp['aqm']=='FQ_Codel':\n",
    "            cmds = '''\n",
    "            sudo tc qdisc del dev {iface} root\n",
    "            sudo tc qdisc replace dev {iface} root handle 1: htb default 3\n",
    "            sudo tc class add dev {iface} parent 1: classid 1:3 htb rate {capacity}mbit\n",
    "            sudo tc qdisc replace dev {iface} parent 1:3 handle 3: fq_codel limit {packet_limit} target {target}ms interval 100ms ecn ce_threshold {threshold}ms\n",
    "            '''.format(iface=router_egress_name, capacity=exp['btl_capacity'], packet_limit=packet_number, target=exp['base_rtt']*exp['n_bdp'], threshold=exp['ecn_threshold'])\n",
    "            router_node.execute(cmds)\n",
    "        \n",
    "        elif exp['aqm']=='DualPI2':\n",
    "            cmds = '''\n",
    "            sudo tc qdisc del dev {iface} root\n",
    "            sudo tc qdisc replace dev {iface} root handle 1: htb default 3\n",
    "            sudo tc class add dev {iface} parent 1: classid 1:3 htb rate {capacity}mbit\n",
    "            sudo tc qdisc add dev {iface} parent 1:3 handle 3: dualpi2 target {threshold}ms\n",
    "            '''.format(iface=router_egress_name, capacity=exp['btl_capacity'], threshold=exp['ecn_threshold'])\n",
    "            router_node.execute(cmds)\n",
    "            \n",
    "    \n",
    "        #starting experiment\n",
    "        #name_prague=\"/%s_%0.1f_%d_%d_%s_%s_%s_%s_%s.txt\" % (\"prague\",exp['n_bdp'], exp['btl_capacity'], exp['base_rtt'], exp['aqm'], str(exp.get('ecn_threshold', 'none')), exp['ecn_fallback'], exp['rx0_ecn'], exp['rx1_ecn'])\n",
    "        #name_cubic=\"/%s_%0.1f_%d_%d_%s_%s_%s_%s_%s.txt\" % (\"cubic\",exp['n_bdp'], exp['btl_capacity'], exp['base_rtt'], exp['aqm'], str(exp.get('ecn_threshold', 'none')), exp['ecn_fallback'], exp['rx0_ecn'], exp['rx1_ecn'])\n",
    "\n",
    "        rx0_node.execute(\"killall iperf3\")\n",
    "        rx1_node.execute(\"killall iperf3\")\n",
    "        \n",
    "        ss_tx0_script=\"rm -f {flow}-ss.txt; start_time=$(date +%s); while true; do ss --no-header -eipn dst 10.0.3.100 | ts '%.s' | tee -a {flow}-ss.txt; current_time=$(date +%s); elapsed_time=$((current_time - start_time));  if [ $elapsed_time -ge {duration} ]; then break; fi; sleep 0.1; done;\"\n",
    "        ss_tx1_script=\"rm -f {flow}-ss.txt; start_time=$(date +%s); while true; do ss --no-header -eipn dst 10.0.4.100 | ts '%.s' | tee -a {flow}-ss.txt; current_time=$(date +%s); elapsed_time=$((current_time - start_time));  if [ $elapsed_time -ge {duration} ]; then break; fi; sleep 0.1; done;\"\n",
    "\n",
    "        #print(\"Starting experiment with {1} bdp {2} capacity {3} rtt {4} {5} thrshold {6} ecn_fallback {7} rx0 {8} rx1 for {duration} seconds\".format(duration=d, 1=exp['n_bdp'], 2=exp['btl_capacity'], 3=exp['base_rtt'], 4=exp['aqm'], 5=exp['ecn_threshold'], 6= exp['ecn_fallback'], 7=exp['rx0_ecn'], 8=exp['rx1_ecn']))\n",
    "        \n",
    "        rx0_node.execute(\"iperf3 -s -1 -p 4000 -D\")\n",
    "        rx1_node.execute(\"iperf3 -s -1 -p 5000 -D\")\n",
    "        \n",
    "        tx0_node.execute_thread(ss_tx0_script.format(flow=name_prague, duration=d))\n",
    "        tx1_node.execute_thread(ss_tx1_script.format(flow=name_cubic, duration=d))\n",
    "        \n",
    "        tx0_node.execute_thread(\"sleep 1; iperf3 -c 10.0.3.100 -t {duration} -P {flows} -C prague -p 4000 -J > {flow}-result.json\".format(flow =name_prague, duration=d, flows=1))\n",
    "        stdout, stderr = tx1_node.execute(\"sleep 1; iperf3 -c 10.0.4.100 -t {duration} -P {flows} -C cubic -p 5000 -J > {flow}-result.json\".format(flow =name_cubic, duration=d, flows=1))\n",
    "        time.sleep(3)\n",
    "        \n",
    "        break\n",
    "        \n",
    "tx0_node.execute('rm -r '+data_dir_tx0)\n",
    "tx0_node.execute('mkdir '+data_dir_tx0)\n",
    "\n",
    "tx0_node.execute('mv *.json '+ data_dir_tx0)\n",
    "tx0_node.execute('mv *.txt '+ data_dir_tx0)\n",
    "        \n",
    "tx0_node.execute('tar -czvf '+data_dir_tx0+ '.tgz ' +  data_dir_tx0)\n",
    "tx0_node.download_file(data_dir_tx0+'.tgz ', '/home/ubuntu/' + data_dir_tx0+ '.tgz')\n",
    "\n",
    "tx1_node.execute('rm -r '+data_dir_tx1)\n",
    "tx1_node.execute('mkdir '+data_dir_tx1)\n",
    "\n",
    "tx1_node.execute('mv *.json '+ data_dir_tx1)\n",
    "tx1_node.execute('mv *.txt '+ data_dir_tx1)\n",
    "        \n",
    "tx1_node.execute('tar -czvf '+data_dir_tx1+ '.tgz ' +  data_dir_tx1)\n",
    "tx1_node.download_file(data_dir_tx1+'.tgz ', '/home/ubuntu/' + data_dir_tx1+ '.tgz')"
   ],
   "id": "ef4aa280-1184-4e98-9479-7f57a994cbd7"
  }
 ],
 "nbformat": 4,
 "nbformat_minor": 5,
 "metadata": {}
}
